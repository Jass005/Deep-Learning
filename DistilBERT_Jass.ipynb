{
 "cells": [
  {
   "cell_type": "markdown",
   "metadata": {
    "id": "1x906-fBJSYi"
   },
   "source": [
    "# Info and Instructions\n",
    "\n",
    "## 1 Your Objective (**Read Carefully**)\n",
    "The year is 2051, fake news has drastically destabilized our political system.\n",
    "70% of Canadians believe at least one of the major conspiracy theories circulating the country at any given time.\n",
    "\n",
    "A new type of political party has developed (lets call them Party Q), that relies heavily on fake news and country division and fear\n",
    "to win the support of voters. \n",
    "Party Q has been gaining major traction in Canadian politics at all levels, \n",
    "and certain provinces are currently being occupied by Party Q Political candidates.\n",
    "\n",
    "The current prime-minister is a stable moderate but there are fears around the rising support for the\n",
    "a Party Q opposition even at the federal level.\n",
    "\n",
    "You've been asked by the Canadian Government to build a proof of concept model to detect fake news. \n",
    "If successful this model will be deployed and applied to every political speech/comment/post made in this country\n",
    "at all levels of government, it will be used for both real-time fact checking, and flagging of facts to be sent to proffessional fact checkers.\n",
    "\n",
    "The fate of our nation rests in your capable hands.\n",
    "\n",
    "The prime minister needs 3 results from your model:\n",
    "1. Needs to flag false posts (\"pants-fire\" or \"false\") with a recall of at least 70% (these will be sent to proffessional fact checkers)\n",
    "2. Needs to flag \"true\" posts with a precision of at least 95% (these will be used in real-time to verify facts during presentations)\n",
    "3. Needs to flag \"pants-fire\" posts with a precision of at least 95% (these will be used in real-time to contradict statements during presentations)\n",
    "(See dataset information for more clarification around labels)\n",
    "\n",
    "## 2 Dataset Information:\n",
    "\"We consider six fine-grained labels for\n",
    "the truthfulness ratings: pants-fire, false, barelytrue, half-true, mostly-true, and true. The distribution of labels in the LIAR dataset is relatively\n",
    "well-balanced: except for 1,050 pants-fire cases,\n",
    "the instances for all other labels range from 2,063\n",
    "to 2,638.\" - https://arxiv.org/pdf/1705.00648.pdf\n",
    "\n",
    "## 3 Submission Instructions (**Read Carefully**)\n",
    "- To submit:\n",
    "  1. you cannot edit this notebook directly. **Save a copy** to your drive, and make sure to identify yourself in the title using name and student number\n",
    "  2. **Ensure** you have implemented all the nececessary functions\n",
    "  3. **Provide answers** to the questions in the conclusion cell\n",
    "  4. Unlike previous assignments, please **submit all three formats: .py, .ipynb, and html** (see https://torbjornzetterlund.com/how-to-save-a-google-colab-notebook-as-html/)\n",
    "    - The notebook and html submissions should show the completion of your best performing run\n",
    "  5. **Ensure** your nNotebook can _restart and run all_\n",
    "  6. The mark will be assessed on the implementation of the functions with #TODO\n",
    "  7. **Do not change anything outside the marked functions**  unless in the further exploration section\n",
    "  8.  Do not use any additional libraries than the ones listed below (you may import additional modules from those libraries if needed)\n",
    "  9. The mark is primarily based on correctness. However, since you are responsible for optimally tuning this model, meeting high performance is required, you should be able to at least match the results given in the paper.\n",
    "\n",
    "Changing your run time in colab to GPU will speed up the training drastically\n"
   ]
  },
  {
   "cell_type": "code",
   "execution_count": 2,
   "metadata": {
    "colab": {
     "base_uri": "https://localhost:8080/",
     "height": 1000,
     "referenced_widgets": [
      "311864b5ee9c4a1885333ff63d1a179e",
      "92ab36240c1a43b88be72e8176b412df",
      "2756b65ad38449ef9f1326ecb2306001",
      "5475cd5758af4d509cd24bfc7fc83e8c",
      "4fe6667d1aab458eac82658dafc4b8ca",
      "71b24d1c5a9448bf9759980b395affbe",
      "44bab10120e04715920d29cd203526c6",
      "4904ff5b32d141e38919e37a7f255ab5"
     ]
    },
    "id": "hZj4c0xTeMwH",
    "outputId": "e2d6ba71-4b56-42f2-eaf2-9a8a90e04cda"
   },
   "outputs": [
    {
     "name": "stdout",
     "output_type": "stream",
     "text": [
      "Collecting datasets\n",
      "\u001b[?25l  Downloading https://files.pythonhosted.org/packages/3e/73/742d17d8a9a1c639132affccc9250f0743e484cbf263ede6ddcbe34ef212/datasets-1.4.1-py3-none-any.whl (186kB)\n",
      "\r",
      "\u001b[K     |█▊                              | 10kB 19.4MB/s eta 0:00:01\r",
      "\u001b[K     |███▌                            | 20kB 16.4MB/s eta 0:00:01\r",
      "\u001b[K     |█████▎                          | 30kB 13.4MB/s eta 0:00:01\r",
      "\u001b[K     |███████                         | 40kB 11.8MB/s eta 0:00:01\r",
      "\u001b[K     |████████▊                       | 51kB 7.7MB/s eta 0:00:01\r",
      "\u001b[K     |██████████▌                     | 61kB 7.5MB/s eta 0:00:01\r",
      "\u001b[K     |████████████▎                   | 71kB 8.5MB/s eta 0:00:01\r",
      "\u001b[K     |██████████████                  | 81kB 9.4MB/s eta 0:00:01\r",
      "\u001b[K     |███████████████▉                | 92kB 9.0MB/s eta 0:00:01\r",
      "\u001b[K     |█████████████████▌              | 102kB 7.6MB/s eta 0:00:01\r",
      "\u001b[K     |███████████████████▎            | 112kB 7.6MB/s eta 0:00:01\r",
      "\u001b[K     |█████████████████████           | 122kB 7.6MB/s eta 0:00:01\r",
      "\u001b[K     |██████████████████████▉         | 133kB 7.6MB/s eta 0:00:01\r",
      "\u001b[K     |████████████████████████▋       | 143kB 7.6MB/s eta 0:00:01\r",
      "\u001b[K     |██████████████████████████▎     | 153kB 7.6MB/s eta 0:00:01\r",
      "\u001b[K     |████████████████████████████    | 163kB 7.6MB/s eta 0:00:01\r",
      "\u001b[K     |█████████████████████████████▉  | 174kB 7.6MB/s eta 0:00:01\r",
      "\u001b[K     |███████████████████████████████▋| 184kB 7.6MB/s eta 0:00:01\r",
      "\u001b[K     |████████████████████████████████| 194kB 7.6MB/s \n",
      "\u001b[?25hRequirement already satisfied: pyarrow>=0.17.1 in /usr/local/lib/python3.7/dist-packages (from datasets) (3.0.0)\n",
      "Requirement already satisfied: numpy>=1.17 in /usr/local/lib/python3.7/dist-packages (from datasets) (1.19.5)\n",
      "Requirement already satisfied: requests>=2.19.0 in /usr/local/lib/python3.7/dist-packages (from datasets) (2.23.0)\n",
      "Collecting huggingface-hub==0.0.2\n",
      "  Downloading https://files.pythonhosted.org/packages/b5/93/7cb0755c62c36cdadc70c79a95681df685b52cbaf76c724facb6ecac3272/huggingface_hub-0.0.2-py3-none-any.whl\n",
      "Requirement already satisfied: tqdm<4.50.0,>=4.27 in /usr/local/lib/python3.7/dist-packages (from datasets) (4.41.1)\n",
      "Requirement already satisfied: dill in /usr/local/lib/python3.7/dist-packages (from datasets) (0.3.3)\n",
      "Requirement already satisfied: pandas in /usr/local/lib/python3.7/dist-packages (from datasets) (1.1.5)\n",
      "Collecting fsspec\n",
      "\u001b[?25l  Downloading https://files.pythonhosted.org/packages/91/0d/a6bfee0ddf47b254286b9bd574e6f50978c69897647ae15b14230711806e/fsspec-0.8.7-py3-none-any.whl (103kB)\n",
      "\u001b[K     |████████████████████████████████| 112kB 14.7MB/s \n",
      "\u001b[?25hCollecting xxhash\n",
      "\u001b[?25l  Downloading https://files.pythonhosted.org/packages/e7/27/1c0b37c53a7852f1c190ba5039404d27b3ae96a55f48203a74259f8213c9/xxhash-2.0.0-cp37-cp37m-manylinux2010_x86_64.whl (243kB)\n",
      "\u001b[K     |████████████████████████████████| 245kB 15.1MB/s \n",
      "\u001b[?25hRequirement already satisfied: multiprocess in /usr/local/lib/python3.7/dist-packages (from datasets) (0.70.11.1)\n",
      "Requirement already satisfied: importlib-metadata; python_version < \"3.8\" in /usr/local/lib/python3.7/dist-packages (from datasets) (3.7.0)\n",
      "Requirement already satisfied: urllib3!=1.25.0,!=1.25.1,<1.26,>=1.21.1 in /usr/local/lib/python3.7/dist-packages (from requests>=2.19.0->datasets) (1.24.3)\n",
      "Requirement already satisfied: idna<3,>=2.5 in /usr/local/lib/python3.7/dist-packages (from requests>=2.19.0->datasets) (2.10)\n",
      "Requirement already satisfied: certifi>=2017.4.17 in /usr/local/lib/python3.7/dist-packages (from requests>=2.19.0->datasets) (2020.12.5)\n",
      "Requirement already satisfied: chardet<4,>=3.0.2 in /usr/local/lib/python3.7/dist-packages (from requests>=2.19.0->datasets) (3.0.4)\n",
      "Requirement already satisfied: filelock in /usr/local/lib/python3.7/dist-packages (from huggingface-hub==0.0.2->datasets) (3.0.12)\n",
      "Requirement already satisfied: python-dateutil>=2.7.3 in /usr/local/lib/python3.7/dist-packages (from pandas->datasets) (2.8.1)\n",
      "Requirement already satisfied: pytz>=2017.2 in /usr/local/lib/python3.7/dist-packages (from pandas->datasets) (2018.9)\n",
      "Requirement already satisfied: zipp>=0.5 in /usr/local/lib/python3.7/dist-packages (from importlib-metadata; python_version < \"3.8\"->datasets) (3.4.1)\n",
      "Requirement already satisfied: typing-extensions>=3.6.4; python_version < \"3.8\" in /usr/local/lib/python3.7/dist-packages (from importlib-metadata; python_version < \"3.8\"->datasets) (3.7.4.3)\n",
      "Requirement already satisfied: six>=1.5 in /usr/local/lib/python3.7/dist-packages (from python-dateutil>=2.7.3->pandas->datasets) (1.15.0)\n",
      "Installing collected packages: huggingface-hub, fsspec, xxhash, datasets\n",
      "Successfully installed datasets-1.4.1 fsspec-0.8.7 huggingface-hub-0.0.2 xxhash-2.0.0\n",
      "Collecting transformers\n",
      "\u001b[?25l  Downloading https://files.pythonhosted.org/packages/f9/54/5ca07ec9569d2f232f3166de5457b63943882f7950ddfcc887732fc7fb23/transformers-4.3.3-py3-none-any.whl (1.9MB)\n",
      "\u001b[K     |████████████████████████████████| 1.9MB 9.1MB/s \n",
      "\u001b[?25hRequirement already satisfied: importlib-metadata; python_version < \"3.8\" in /usr/local/lib/python3.7/dist-packages (from transformers) (3.7.0)\n",
      "Requirement already satisfied: filelock in /usr/local/lib/python3.7/dist-packages (from transformers) (3.0.12)\n",
      "Collecting tokenizers<0.11,>=0.10.1\n",
      "\u001b[?25l  Downloading https://files.pythonhosted.org/packages/71/23/2ddc317b2121117bf34dd00f5b0de194158f2a44ee2bf5e47c7166878a97/tokenizers-0.10.1-cp37-cp37m-manylinux2010_x86_64.whl (3.2MB)\n",
      "\u001b[K     |████████████████████████████████| 3.2MB 51.6MB/s \n",
      "\u001b[?25hRequirement already satisfied: regex!=2019.12.17 in /usr/local/lib/python3.7/dist-packages (from transformers) (2019.12.20)\n",
      "Requirement already satisfied: requests in /usr/local/lib/python3.7/dist-packages (from transformers) (2.23.0)\n",
      "Collecting sacremoses\n",
      "\u001b[?25l  Downloading https://files.pythonhosted.org/packages/7d/34/09d19aff26edcc8eb2a01bed8e98f13a1537005d31e95233fd48216eed10/sacremoses-0.0.43.tar.gz (883kB)\n",
      "\u001b[K     |████████████████████████████████| 890kB 50.1MB/s \n",
      "\u001b[?25hRequirement already satisfied: tqdm>=4.27 in /usr/local/lib/python3.7/dist-packages (from transformers) (4.41.1)\n",
      "Requirement already satisfied: packaging in /usr/local/lib/python3.7/dist-packages (from transformers) (20.9)\n",
      "Requirement already satisfied: numpy>=1.17 in /usr/local/lib/python3.7/dist-packages (from transformers) (1.19.5)\n",
      "Requirement already satisfied: typing-extensions>=3.6.4; python_version < \"3.8\" in /usr/local/lib/python3.7/dist-packages (from importlib-metadata; python_version < \"3.8\"->transformers) (3.7.4.3)\n",
      "Requirement already satisfied: zipp>=0.5 in /usr/local/lib/python3.7/dist-packages (from importlib-metadata; python_version < \"3.8\"->transformers) (3.4.1)\n",
      "Requirement already satisfied: urllib3!=1.25.0,!=1.25.1,<1.26,>=1.21.1 in /usr/local/lib/python3.7/dist-packages (from requests->transformers) (1.24.3)\n",
      "Requirement already satisfied: certifi>=2017.4.17 in /usr/local/lib/python3.7/dist-packages (from requests->transformers) (2020.12.5)\n",
      "Requirement already satisfied: idna<3,>=2.5 in /usr/local/lib/python3.7/dist-packages (from requests->transformers) (2.10)\n",
      "Requirement already satisfied: chardet<4,>=3.0.2 in /usr/local/lib/python3.7/dist-packages (from requests->transformers) (3.0.4)\n",
      "Requirement already satisfied: six in /usr/local/lib/python3.7/dist-packages (from sacremoses->transformers) (1.15.0)\n",
      "Requirement already satisfied: click in /usr/local/lib/python3.7/dist-packages (from sacremoses->transformers) (7.1.2)\n",
      "Requirement already satisfied: joblib in /usr/local/lib/python3.7/dist-packages (from sacremoses->transformers) (1.0.1)\n",
      "Requirement already satisfied: pyparsing>=2.0.2 in /usr/local/lib/python3.7/dist-packages (from packaging->transformers) (2.4.7)\n",
      "Building wheels for collected packages: sacremoses\n",
      "  Building wheel for sacremoses (setup.py) ... \u001b[?25l\u001b[?25hdone\n",
      "  Created wheel for sacremoses: filename=sacremoses-0.0.43-cp37-none-any.whl size=893262 sha256=16f9eabda563065b798d629b451cfbde6904b59ece862e1e974bdaafe9273705\n",
      "  Stored in directory: /root/.cache/pip/wheels/29/3c/fd/7ce5c3f0666dab31a50123635e6fb5e19ceb42ce38d4e58f45\n",
      "Successfully built sacremoses\n",
      "Installing collected packages: tokenizers, sacremoses, transformers\n",
      "Successfully installed sacremoses-0.0.43 tokenizers-0.10.1 transformers-4.3.3\n",
      "Requirement already satisfied: pandas in /usr/local/lib/python3.7/dist-packages (1.1.5)\n",
      "Requirement already satisfied: python-dateutil>=2.7.3 in /usr/local/lib/python3.7/dist-packages (from pandas) (2.8.1)\n",
      "Requirement already satisfied: pytz>=2017.2 in /usr/local/lib/python3.7/dist-packages (from pandas) (2018.9)\n",
      "Requirement already satisfied: numpy>=1.15.4 in /usr/local/lib/python3.7/dist-packages (from pandas) (1.19.5)\n",
      "Requirement already satisfied: six>=1.5 in /usr/local/lib/python3.7/dist-packages (from python-dateutil>=2.7.3->pandas) (1.15.0)\n"
     ]
    },
    {
     "data": {
      "application/vnd.jupyter.widget-view+json": {
       "model_id": "311864b5ee9c4a1885333ff63d1a179e",
       "version_major": 2,
       "version_minor": 0
      },
      "text/plain": [
       "HBox(children=(FloatProgress(value=0.0, description='Downloading', max=231508.0, style=ProgressStyle(descripti…"
      ]
     },
     "metadata": {
      "tags": []
     },
     "output_type": "display_data"
    },
    {
     "name": "stdout",
     "output_type": "stream",
     "text": [
      "\n"
     ]
    }
   ],
   "source": [
    "!pip install datasets\n",
    "!pip install transformers\n",
    "!pip install pandas\n",
    "\n",
    "from datasets import load_dataset\n",
    "import matplotlib.pyplot as plt\n",
    "import tensorflow.keras as keras\n",
    "import pandas as pd\n",
    "\n",
    "try: # this is only working on the 2nd try in colab :)\n",
    "  from transformers import DistilBertTokenizer, TFDistilBertModel\n",
    "except Exception as err: # so we catch the error and import it again\n",
    "  from transformers import DistilBertTokenizer, TFDistilBertModel\n",
    "\n",
    "import numpy as np\n",
    "from keras.utils import np_utils\n",
    "import tensorflow as tf\n",
    "from pandas_profiling import ProfileReport\n",
    "\n",
    "from tensorflow.keras.layers import Input, Dropout, Dense\n",
    "from tensorflow.keras.models import Model\n",
    "from tensorflow.keras.optimizers import Adam\n",
    "from tensorflow.keras.callbacks import EarlyStopping\n",
    "from tensorflow.keras.losses import CategoricalCrossentropy\n",
    "from tensorflow.keras.metrics import CategoricalAccuracy\n",
    "from tensorflow.keras.utils import to_categorical\n",
    "\n",
    "import re\n",
    "# Tutorial about Python regular expressions: https://pymotw.com/2/re/\n",
    "import string\n",
    "\n",
    "from tensorflow.keras.layers import Dense, Input, Dropout, BatchNormalization, LayerNormalization\n",
    "\n",
    "\n",
    "dbert_tokenizer = DistilBertTokenizer.from_pretrained('distilbert-base-uncased')\n",
    "\n"
   ]
  },
  {
   "cell_type": "markdown",
   "metadata": {
    "id": "LfIsoKKAJ1nq"
   },
   "source": [
    "# Data Preparation\n",
    "\n",
    "## Clean the text and your targets\n",
    "Hints: \n",
    "1. Use the exploration cell to explore the data and identify cleaning steps\n",
    "2. Inspect the tokenized sentences and ensure they make sense and can leverage already trained word embeddings\n",
    "3. These resources will help you understand what type of cleaning will be required and how you can encode your text for the network:\n",
    "    - a) Preprocessing: https://huggingface.co/transformers/preprocessing.html\n",
    "    - b) Summary of tokenizers (DistilBERT uses WordPiece): https://huggingface.co/transformers/tokenizer_summary.html#wordpiece\n",
    "4. Consider the text length, is this too big/small for DistilBERT? what impact would padding/truncation have?\n",
    "5. In load data you generated a profiling report of this dataset, might be helpful to review that as well"
   ]
  },
  {
   "cell_type": "code",
   "execution_count": 376,
   "metadata": {
    "id": "AT9xsN3eezI6"
   },
   "outputs": [],
   "source": [
    "def prepare_raw_data(df):\n",
    "  raw_data = df.loc[:, [\"id\", \"statement\", \"label\"]]\n",
    "  raw_data[\"label\"] = raw_data[\"label\"].astype('category')\n",
    "  return raw_data\n",
    "\n",
    "def load_data(save_dir=\"./\"):\n",
    "  dataset = load_dataset(\"liar\")\n",
    "  train = prepare_raw_data(pd.DataFrame(dataset[\"train\"]))\n",
    "  val = prepare_raw_data(pd.DataFrame(dataset[\"validation\"]))\n",
    "  test = prepare_raw_data(pd.DataFrame(dataset[\"test\"]))\n",
    "  return train, val, test\n",
    "         \n",
    "def clean_data(raw_data):\n",
    "  # TODO: What data cleaning/filtering should you consider?\n",
    "  # Hint: check for duplicates or contradictions\n",
    "  # Hint: What is the minimum and maximum lengths of the statements?\n",
    "  # DO NOT CHANGE THE INPUTS OR OUTPUTS TO THIS FUNCTION\n",
    "\n",
    "  ### Converting object type to string\n",
    "  raw_data = raw_data.convert_dtypes(convert_string=True)\n",
    "\n",
    "  ## Copying to s string array for preprocessing\n",
    "  raw_data_statement = raw_data['statement'].values\n",
    "  \n",
    "  \n",
    "\n",
    "  clean_data = raw_data\n",
    "  return clean_data\n",
    "\n",
    "def extract_raw_text_and_y(clean_data):\n",
    "  raw_text, raw_y = clean_data[\"statement\"].values, clean_data[\"label\"].values\n",
    "  return raw_text, raw_y\n",
    "\n",
    "def encode_text(text):\n",
    "    # TODO: encode text using dbert_tokenizer\n",
    "    # DO NOT CHANGE THE INPUTS OR OUTPUTS TO THIS FUNCTION\n",
    "    max_seq_len = 66\n",
    "    input_ids, attention_mask = [],[]\n",
    "    \n",
    "    tokens = dbert_tokenizer.batch_encode_plus(text, max_length=max_seq_len, padding=True, truncation=True)\n",
    "    input_ids=np.array(tokens['input_ids'])\n",
    "    attention_mask=np.array(tokens['attention_mask'])\n",
    "\n",
    "    return input_ids, attention_mask\n",
    "\n",
    "def prepare_target(raw_y):\n",
    "    # TODO: convert labels to 0/1\n",
    "    # DO NOT CHANGE THE INPUTS OR OUTPUTS TO THIS FUNCTION\n",
    "    # NOTE: labels map as follows: ['false', 'half-true', 'mostly-true', 'true', 'barely-true', 'pants-fire']\n",
    "    # y should have:\n",
    "    # column 0 = \"pants-fire\" or \"false\" posts\n",
    "    # column 1 = \"true\" posts\n",
    "    # column 2 = \"pants-fire\"\n",
    "    lst_dict = []\n",
    "    df = pd.DataFrame(columns=['col_0', 'col_1', 'col_2','original'])\n",
    "    for row in raw_y:      \n",
    "      if row == 0 : #false or Pants-fire\n",
    "        #print(row)\n",
    "        lst_dict.append({'col_0':1, 'col_1':0, 'col_2': 0, 'original':row})\n",
    "      elif row == 3: #True\n",
    "        #print(row)\n",
    "        lst_dict.append({'col_0':0, 'col_1':1, 'col_2': 0, 'original':row})\n",
    "      elif row == 5: #Pants fire\n",
    "       #print(row)\n",
    "       lst_dict.append({'col_0':0, 'col_1':0, 'col_2': 1, 'original':row})\n",
    "      else : \n",
    "        #print(row)\n",
    "       lst_dict.append({'col_0':0, 'col_1':0, 'col_2': 0, 'original':row})\n",
    "\n",
    "    df1 = df.append(lst_dict)\n",
    "    df1['col_0'] = df1.apply(lambda x: 1 if x['original']==5 else x['col_0'], axis=1)\n",
    "    y = df1\n",
    "    return y\n"
   ]
  },
  {
   "cell_type": "markdown",
   "metadata": {
    "id": "i2USajN2MWjn"
   },
   "source": [
    "# Modelling\n",
    "\n",
    "## Build and Train Model\n",
    "\n",
    "Resources:\n",
    "- DistilBERT paper: https://arxiv.org/abs/1910.01108\n",
    "- DistilBERT Tensorflow Documentation: https://huggingface.co/transformers/model_doc/distilbert.html#tfdistilbertmodel"
   ]
  },
  {
   "cell_type": "code",
   "execution_count": 377,
   "metadata": {
    "id": "GZfFboF85rIe"
   },
   "outputs": [],
   "source": [
    "def build_model(base_model, trainable=False, params={}):\n",
    "    # TODO: build the model, with the option to freeze the parameters in distilBERT\n",
    "    # DO NOT CHANGE THE INPUTS OR OUTPUTS TO THIS FUNCTION\n",
    "    # Hint 1: the cls token (token for classification in bert / distilBERT)  corresponds to the first element in the sequence in DistilBERT\n",
    "    # Hint 2: this guide may be helpful for parameter freezing: https://keras.io/guides/transfer_learning/\n",
    "    # Hint 3: double check your number of parameters make sense\n",
    "    # Hint 4: carefully consider your final layer activation and loss function\n",
    "    max_seq_len = 66\n",
    "    # Refer to https://keras.io/api/layers/core_layers/input/\n",
    "    inputs = Input(shape = (max_seq_len,), dtype='int64', name='inputs')\n",
    "    masks  = Input(shape = (max_seq_len,), dtype='int64', name='masks')\n",
    "\n",
    "    #inputs = {'inputs': inputs, 'mask': mask}\n",
    "\n",
    "    base_model.trainable = trainable\n",
    "\n",
    "    #dbert_output = base_model(inputs, attention_mask=masks)\n",
    "    #dbert_last_hidden_state = dbert_output.last_hidden_state\n",
    "\n",
    "    dbert_last_hidden_state = base_model(inputs, attention_mask=masks)[0]\n",
    "\n",
    "    print(\"bert shape\",dbert_last_hidden_state.shape)\n",
    "\n",
    "    cls_token = dbert_last_hidden_state[:,0,:]\n",
    "    # Any additional layers should go here\n",
    "    # use the 'params' as a dictionary for hyper parameter to facilitate experimentation\n",
    "\n",
    "    pooled_output = Dense(128, activation='relu')(cls_token)\n",
    "    pooled_output = Dropout(0.5)(pooled_output)\n",
    "      \n",
    "    col_0 = Dense(units=2, name='col_0', activation='relu')(pooled_output)\n",
    "\n",
    "    col_1 = Dense(units=2, name='col_1' , activation='relu')(pooled_output)\n",
    "\n",
    "    col_2 = Dense(units=2, name='col_2' , activation='relu')(pooled_output)\n",
    "\n",
    "    my_outputs = {'col_0': col_0, 'col_1':col_1, 'col_2':col_2}\n",
    "\n",
    "    #probs = Dense(2,  activation='softmax')(my_outputs)\n",
    "\n",
    "    #probs = Dense(3,  activation='sigmoid')(my_outputs)\n",
    "\n",
    "    #print(\"probs details\", probs)\n",
    "\n",
    "    model = keras.Model(inputs=[inputs, masks], outputs=my_outputs, name='BERT_MultiLabel_MultiClass')\n",
    "    model.summary()\n",
    "    return model"
   ]
  },
  {
   "cell_type": "code",
   "execution_count": 378,
   "metadata": {
    "id": "xQwmE3gvCAC8"
   },
   "outputs": [],
   "source": [
    "def compile_model(model):\n",
    "    # TODO: compile the model, include relevant auc metrics when training\n",
    "    # DO NOT CHANGE THE INPUTS OR OUTPUTS TO THIS FUNCTION\n",
    "    # Hint: you may want to read up on the \"multi_label\" parameter in the keras AUC metrics\n",
    "    \n",
    "    optimizer = Adam(learning_rate=5e-05,epsilon=1e-08, decay=0.01,clipnorm=1.0)\n",
    "    #set loss and metrics\n",
    "    loss= {\n",
    "            'col_0': CategoricalCrossentropy(from_logits = True),\n",
    "            'col_1': CategoricalCrossentropy(from_logits = True),\n",
    "            'col_2': CategoricalCrossentropy(from_logits = True)\n",
    "          }\n",
    "    metric = {\n",
    "              'col_0': CategoricalAccuracy('accuracy'),\n",
    "              'col_1': CategoricalAccuracy('accuracy'),\n",
    "              'col_2': CategoricalAccuracy('accuracy')\n",
    "             }\n",
    "    model.compile(optimizer=optimizer, loss = loss, metrics = metric )\n",
    "\n",
    "    return model"
   ]
  },
  {
   "cell_type": "code",
   "execution_count": 390,
   "metadata": {
    "id": "j9Gc9ajwC3UO"
   },
   "outputs": [],
   "source": [
    "def train_model(model, model_inputs_and_masks_train, model_inputs_and_masks_val,\n",
    "    y_train, y_val, batch_size, num_epochs):\n",
    "    # TODO: train the model\n",
    "    # DO NOT CHANGE THE INPUTS OR OUTPUTS TO THIS FUNCTION\n",
    "\n",
    "    #history = model.fit(model_inputs_and_masks_train, y_train=[], batch_size=batch_size,\n",
    "     #                   validation_data=(model_inputs_and_masks_val, y_val), epochs=num_epochs)\n",
    "\n",
    "    train_inp = model_inputs_and_masks_train['inputs']\n",
    "    train_mask = model_inputs_and_masks_train['masks']\n",
    "    val_inp = model_inputs_and_masks_val['inputs']\n",
    "    val_mask = model_inputs_and_masks_val['masks']\n",
    "\n",
    "    col_0 = to_categorical(y_train['col_0'])\n",
    "    col_1 = to_categorical(y_train['col_1'])\n",
    "    col_2 = to_categorical(y_train['col_2'])\n",
    "\n",
    "   \n",
    "    # history = model.fit( x=[train_inp,train_mask], y=[col_0],validation_split=0.2, batch_size=64, epochs=1)\n",
    "    \n",
    "    #history = model.fit( x=[train_inp,train_mask] , y=output_arr , validation_split=0.2, batch_size=64, epochs=1)\n",
    "\n",
    "    history = model.fit(x={'inputs': train_inp, 'masks': train_mask}, \n",
    "                        y={'col_0': col_0, 'col_1': col_1, 'col_2': col_2},\n",
    "                        validation_split=0.2, batch_size=64, epochs=15\n",
    "                        )\n",
    "\n",
    "    print(100)\n",
    "    return model, history"
   ]
  },
  {
   "cell_type": "code",
   "execution_count": 382,
   "metadata": {
    "colab": {
     "base_uri": "https://localhost:8080/"
    },
    "id": "Yu_vbTovhCOX",
    "outputId": "3c9d4870-1129-46c2-d3da-cba21b9f14d4"
   },
   "outputs": [
    {
     "data": {
      "text/plain": [
       "array([[1., 0.],\n",
       "       [1., 0.],\n",
       "       [1., 0.],\n",
       "       ...,\n",
       "       [1., 0.],\n",
       "       [1., 0.],\n",
       "       [0., 1.]], dtype=float32)"
      ]
     },
     "execution_count": 382,
     "metadata": {
      "tags": []
     },
     "output_type": "execute_result"
    }
   ],
   "source": [
    "to_categorical(train_y['col_2'])"
   ]
  },
  {
   "cell_type": "code",
   "execution_count": 179,
   "metadata": {
    "colab": {
     "base_uri": "https://localhost:8080/",
     "height": 564
    },
    "id": "6nYV7n01XnHJ",
    "outputId": "ff0ccbf6-a806-4afa-fa13-1818d2585117"
   },
   "outputs": [
    {
     "data": {
      "image/png": "[encoded data removed]",
      "text/plain": [
       "<IPython.core.display.Image object>"
      ]
     },
     "execution_count": 179,
     "metadata": {
      "tags": []
     },
     "output_type": "execute_result"
    }
   ],
   "source": [
    "tf.keras.utils.plot_model(model)"
   ]
  },
  {
   "cell_type": "code",
   "execution_count": 7,
   "metadata": {
    "colab": {
     "base_uri": "https://localhost:8080/",
     "height": 129
    },
    "id": "vkeGty1ZGccC",
    "outputId": "101e2012-bc0e-4ff3-b0dc-563c3bed6624"
   },
   "outputs": [
    {
     "ename": "SyntaxError",
     "evalue": "ignored",
     "output_type": "error",
     "traceback": [
      "\u001b[0;36m  File \u001b[0;32m\"<ipython-input-7-7e58c1e984a1>\"\u001b[0;36m, line \u001b[0;32m8\u001b[0m\n\u001b[0;31m    \"pr_auc\": ???, \"pr_auc_random_guess\": ???,\u001b[0m\n\u001b[0m              ^\u001b[0m\n\u001b[0;31mSyntaxError\u001b[0m\u001b[0;31m:\u001b[0m invalid syntax\n"
     ]
    }
   ],
   "source": [
    "def evaluate_model(model, model_inputs_and_masks_test, y_test):\n",
    "    # TODO: evaluate the model\n",
    "    # DO NOT CHANGE THE INPUTS OR OUTPUTS TO THIS FUNCTION\n",
    "    # HINT: for pr_auc: https://scikit-learn.org/stable/modules/generated/sklearn.metrics.average_precision_score.html \n",
    "\n",
    "    eval_dict = {\n",
    "        \"false\": {\n",
    "            \"pr_auc\": ???, \"pr_auc_random_guess\": ???, \n",
    "            \"roc_auc\": ???, \"roc_auc_random_guess\": ???, \n",
    "            \"precision\": ???, \"recall\": ???\n",
    "        }, \n",
    "        \"true\": {\n",
    "            \"pr_auc\": ???, \"pr_auc_random_guess\": ???, \n",
    "            \"roc_auc\": ???, \"roc_auc_random_guess\": ???, \n",
    "            \"precision\": ???, \"recall\": ???\n",
    "        }, \n",
    "        \"pants\": {\n",
    "            \"pr_auc\": ???, \"pr_auc_random_guess\": ???, \n",
    "            \"roc_auc\": ???, \"roc_auc_random_guess\": ???, \n",
    "            \"precision\": ???, \"recall\": ???\n",
    "        }\n",
    "    }\n",
    "    return eval_dict"
   ]
  },
  {
   "cell_type": "markdown",
   "metadata": {
    "id": "Qg_oKZr5VoCU"
   },
   "source": [
    "# Execution\n",
    "\n"
   ]
  },
  {
   "cell_type": "code",
   "execution_count": 391,
   "metadata": {
    "colab": {
     "base_uri": "https://localhost:8080/"
    },
    "id": "0xEWJaqCMTCB",
    "outputId": "f027694f-5a29-427f-bb1a-b29979a22e74"
   },
   "outputs": [
    {
     "name": "stderr",
     "output_type": "stream",
     "text": [
      "Using custom data configuration default\n",
      "Reusing dataset liar (/root/.cache/huggingface/datasets/liar/default/1.0.0/1a6abd9863f27194da30fcb66988477abfa3780df3b0ad1d0032979c48ec7918)\n"
     ]
    }
   ],
   "source": [
    "## DO NOT Change\n",
    "train, val, test = load_data()\n",
    "train_raw_x, train_raw_y = extract_raw_text_and_y(clean_data(train))\n",
    "val_raw_x, val_raw_y = extract_raw_text_and_y(clean_data(val))\n",
    "test_raw_x, test_raw_y = extract_raw_text_and_y(clean_data(test))\n",
    "\n",
    "train_input, train_mask = encode_text(train_raw_x)\n",
    "train_y = prepare_target(train_raw_y)\n",
    "\n",
    "val_input, val_mask = encode_text(val_raw_x)\n",
    "val_y = prepare_target(val_raw_y)\n",
    "\n",
    "test_input, test_mask = encode_text(test_raw_x)\n",
    "test_y = prepare_target(test_raw_y)\n",
    "\n",
    "train_model_inputs_and_masks = {\n",
    "    'inputs' : train_input,\n",
    "    'masks' : train_mask\n",
    "}\n",
    "\n",
    "val_model_inputs_and_masks = {\n",
    "    'inputs' : val_input,\n",
    "    'masks' : val_mask\n",
    "}\n",
    "\n",
    "test_model_inputs_and_masks = {\n",
    "    'inputs' : test_input,\n",
    "    'masks' : test_mask\n",
    "}\n"
   ]
  },
  {
   "cell_type": "code",
   "execution_count": 384,
   "metadata": {
    "colab": {
     "base_uri": "https://localhost:8080/"
    },
    "id": "-W0bNH8x68wl",
    "outputId": "c7d0cbe9-9eee-4a40-a30b-515f21184ba7"
   },
   "outputs": [
    {
     "data": {
      "text/plain": [
       "((10269, 66), (1283, 66), (10269, 4))"
      ]
     },
     "execution_count": 384,
     "metadata": {
      "tags": []
     },
     "output_type": "execute_result"
    }
   ],
   "source": [
    "train_input.shape, test_input.shape, train_y.shape"
   ]
  },
  {
   "cell_type": "markdown",
   "metadata": {
    "id": "0e6WD5qyWkcm"
   },
   "source": [
    "\n",
    "Use the cell below to execute and experiment with your model"
   ]
  },
  {
   "cell_type": "code",
   "execution_count": 392,
   "metadata": {
    "colab": {
     "base_uri": "https://localhost:8080/"
    },
    "id": "OWXV98gvr04P",
    "outputId": "db6788dd-9e43-4d64-c836-902c7431a3de"
   },
   "outputs": [
    {
     "name": "stderr",
     "output_type": "stream",
     "text": [
      "Some layers from the model checkpoint at distilbert-base-uncased were not used when initializing TFDistilBertModel: ['vocab_projector', 'activation_13', 'vocab_transform', 'vocab_layer_norm']\n",
      "- This IS expected if you are initializing TFDistilBertModel from the checkpoint of a model trained on another task or with another architecture (e.g. initializing a BertForSequenceClassification model from a BertForPreTraining model).\n",
      "- This IS NOT expected if you are initializing TFDistilBertModel from the checkpoint of a model that you expect to be exactly identical (initializing a BertForSequenceClassification model from a BertForSequenceClassification model).\n",
      "All the layers of TFDistilBertModel were initialized from the model checkpoint at distilbert-base-uncased.\n",
      "If your task is similar to the task the model of the checkpoint was trained on, you can already use TFDistilBertModel for predictions without further training.\n"
     ]
    },
    {
     "name": "stdout",
     "output_type": "stream",
     "text": [
      "WARNING:tensorflow:The parameters `output_attentions`, `output_hidden_states` and `use_cache` cannot be updated when calling a model.They have to be set to True/False in the config object (i.e.: `config=XConfig.from_pretrained('name', output_attentions=True)`).\n",
      "WARNING:tensorflow:The parameter `return_dict` cannot be set in graph mode and will always be set to `True`.\n",
      "bert shape (None, 66, 768)\n",
      "1st pooled output shape (None, 128)\n",
      "2nd pooled output shape (None, 128)\n",
      "3rd pooled output shape (None, 128)\n",
      "4th pooled output shape (None, 128)\n",
      "Model: \"BERT_MultiLabel_MultiClass\"\n",
      "__________________________________________________________________________________________________\n",
      "Layer (type)                    Output Shape         Param #     Connected to                     \n",
      "==================================================================================================\n",
      "inputs (InputLayer)             [(None, 66)]         0                                            \n",
      "__________________________________________________________________________________________________\n",
      "masks (InputLayer)              [(None, 66)]         0                                            \n",
      "__________________________________________________________________________________________________\n",
      "tf_distil_bert_model_42 (TFDist TFBaseModelOutput(la 66362880    inputs[0][0]                     \n",
      "                                                                 masks[0][0]                      \n",
      "__________________________________________________________________________________________________\n",
      "tf.__operators__.getitem_42 (Sl (None, 768)          0           tf_distil_bert_model_42[0][0]    \n",
      "__________________________________________________________________________________________________\n",
      "dense_53 (Dense)                (None, 128)          98432       tf.__operators__.getitem_42[0][0]\n",
      "__________________________________________________________________________________________________\n",
      "dropout_859 (Dropout)           (None, 128)          0           dense_53[0][0]                   \n",
      "__________________________________________________________________________________________________\n",
      "col_0 (Dense)                   (None, 2)            258         dropout_859[0][0]                \n",
      "__________________________________________________________________________________________________\n",
      "col_1 (Dense)                   (None, 2)            258         dropout_859[0][0]                \n",
      "__________________________________________________________________________________________________\n",
      "col_2 (Dense)                   (None, 2)            258         dropout_859[0][0]                \n",
      "==================================================================================================\n",
      "Total params: 66,462,086\n",
      "Trainable params: 99,206\n",
      "Non-trainable params: 66,362,880\n",
      "__________________________________________________________________________________________________\n",
      "Epoch 1/15\n",
      "WARNING:tensorflow:The parameters `output_attentions`, `output_hidden_states` and `use_cache` cannot be updated when calling a model.They have to be set to True/False in the config object (i.e.: `config=XConfig.from_pretrained('name', output_attentions=True)`).\n",
      "WARNING:tensorflow:The parameter `return_dict` cannot be set in graph mode and will always be set to `True`.\n",
      "WARNING:tensorflow:The parameters `output_attentions`, `output_hidden_states` and `use_cache` cannot be updated when calling a model.They have to be set to True/False in the config object (i.e.: `config=XConfig.from_pretrained('name', output_attentions=True)`).\n",
      "WARNING:tensorflow:The parameter `return_dict` cannot be set in graph mode and will always be set to `True`.\n",
      "129/129 [==============================] - ETA: 0s - loss: 1.9853 - col_0_loss: 0.7317 - col_1_loss: 0.6240 - col_2_loss: 0.6295 - col_0_accuracy: 0.5772 - col_1_accuracy: 0.7195 - col_2_accuracy: 0.6935WARNING:tensorflow:The parameters `output_attentions`, `output_hidden_states` and `use_cache` cannot be updated when calling a model.They have to be set to True/False in the config object (i.e.: `config=XConfig.from_pretrained('name', output_attentions=True)`).\n",
      "WARNING:tensorflow:The parameter `return_dict` cannot be set in graph mode and will always be set to `True`.\n",
      "129/129 [==============================] - 31s 193ms/step - loss: 1.9835 - col_0_loss: 0.7316 - col_1_loss: 0.6235 - col_2_loss: 0.6284 - col_0_accuracy: 0.5778 - col_1_accuracy: 0.7200 - col_2_accuracy: 0.6946 - val_loss: 1.4490 - val_col_0_loss: 0.6931 - val_col_1_loss: 0.4472 - val_col_2_loss: 0.3086 - val_col_0_accuracy: 0.7152 - val_col_1_accuracy: 0.8413 - val_col_2_accuracy: 0.9104\n",
      "Epoch 2/15\n",
      "129/129 [==============================] - 23s 182ms/step - loss: 1.4824 - col_0_loss: 0.6936 - col_1_loss: 0.4813 - col_2_loss: 0.3076 - col_0_accuracy: 0.7040 - col_1_accuracy: 0.8316 - col_2_accuracy: 0.9199 - val_loss: 1.4391 - val_col_0_loss: 0.6931 - val_col_1_loss: 0.4424 - val_col_2_loss: 0.3036 - val_col_0_accuracy: 0.7152 - val_col_1_accuracy: 0.8413 - val_col_2_accuracy: 0.9104\n",
      "Epoch 3/15\n",
      "129/129 [==============================] - 24s 185ms/step - loss: 1.4676 - col_0_loss: 0.6889 - col_1_loss: 0.4776 - col_2_loss: 0.3011 - col_0_accuracy: 0.7167 - col_1_accuracy: 0.8315 - col_2_accuracy: 0.9171 - val_loss: 1.4386 - val_col_0_loss: 0.6931 - val_col_1_loss: 0.4417 - val_col_2_loss: 0.3037 - val_col_0_accuracy: 0.7152 - val_col_1_accuracy: 0.8413 - val_col_2_accuracy: 0.9104\n",
      "Epoch 4/15\n",
      "129/129 [==============================] - 23s 181ms/step - loss: 1.4400 - col_0_loss: 0.6856 - col_1_loss: 0.4618 - col_2_loss: 0.2925 - col_0_accuracy: 0.7094 - col_1_accuracy: 0.8394 - col_2_accuracy: 0.9223 - val_loss: 1.4370 - val_col_0_loss: 0.6931 - val_col_1_loss: 0.4406 - val_col_2_loss: 0.3032 - val_col_0_accuracy: 0.7152 - val_col_1_accuracy: 0.8413 - val_col_2_accuracy: 0.9104\n",
      "Epoch 5/15\n",
      "129/129 [==============================] - 23s 180ms/step - loss: 1.4417 - col_0_loss: 0.6815 - col_1_loss: 0.4690 - col_2_loss: 0.2912 - col_0_accuracy: 0.7178 - col_1_accuracy: 0.8354 - col_2_accuracy: 0.9206 - val_loss: 1.4349 - val_col_0_loss: 0.6924 - val_col_1_loss: 0.4398 - val_col_2_loss: 0.3028 - val_col_0_accuracy: 0.7152 - val_col_1_accuracy: 0.8413 - val_col_2_accuracy: 0.9104\n",
      "Epoch 6/15\n",
      "129/129 [==============================] - 23s 182ms/step - loss: 1.4247 - col_0_loss: 0.6653 - col_1_loss: 0.4705 - col_2_loss: 0.2890 - col_0_accuracy: 0.7202 - col_1_accuracy: 0.8350 - col_2_accuracy: 0.9216 - val_loss: 1.4182 - val_col_0_loss: 0.6769 - val_col_1_loss: 0.4391 - val_col_2_loss: 0.3021 - val_col_0_accuracy: 0.7152 - val_col_1_accuracy: 0.8413 - val_col_2_accuracy: 0.9104\n",
      "Epoch 7/15\n",
      "129/129 [==============================] - 24s 183ms/step - loss: 1.4064 - col_0_loss: 0.6547 - col_1_loss: 0.4629 - col_2_loss: 0.2888 - col_0_accuracy: 0.7207 - col_1_accuracy: 0.8412 - col_2_accuracy: 0.9213 - val_loss: 1.3843 - val_col_0_loss: 0.6439 - val_col_1_loss: 0.4385 - val_col_2_loss: 0.3019 - val_col_0_accuracy: 0.7152 - val_col_1_accuracy: 0.8413 - val_col_2_accuracy: 0.9104\n",
      "Epoch 8/15\n",
      "129/129 [==============================] - 23s 182ms/step - loss: 1.4219 - col_0_loss: 0.6495 - col_1_loss: 0.4717 - col_2_loss: 0.3007 - col_0_accuracy: 0.7103 - col_1_accuracy: 0.8362 - col_2_accuracy: 0.9158 - val_loss: 1.3592 - val_col_0_loss: 0.6199 - val_col_1_loss: 0.4379 - val_col_2_loss: 0.3014 - val_col_0_accuracy: 0.7152 - val_col_1_accuracy: 0.8413 - val_col_2_accuracy: 0.9104\n",
      "Epoch 9/15\n",
      "129/129 [==============================] - 23s 180ms/step - loss: 1.3853 - col_0_loss: 0.6318 - col_1_loss: 0.4730 - col_2_loss: 0.2805 - col_0_accuracy: 0.7256 - col_1_accuracy: 0.8328 - col_2_accuracy: 0.9253 - val_loss: 1.3476 - val_col_0_loss: 0.6088 - val_col_1_loss: 0.4376 - val_col_2_loss: 0.3012 - val_col_0_accuracy: 0.7152 - val_col_1_accuracy: 0.8413 - val_col_2_accuracy: 0.9104\n",
      "Epoch 10/15\n",
      "129/129 [==============================] - 23s 182ms/step - loss: 1.3901 - col_0_loss: 0.6292 - col_1_loss: 0.4676 - col_2_loss: 0.2933 - col_0_accuracy: 0.7249 - col_1_accuracy: 0.8357 - col_2_accuracy: 0.9201 - val_loss: 1.3412 - val_col_0_loss: 0.6030 - val_col_1_loss: 0.4371 - val_col_2_loss: 0.3011 - val_col_0_accuracy: 0.7152 - val_col_1_accuracy: 0.8413 - val_col_2_accuracy: 0.9104\n",
      "Epoch 11/15\n",
      "129/129 [==============================] - 23s 182ms/step - loss: 1.3920 - col_0_loss: 0.6311 - col_1_loss: 0.4641 - col_2_loss: 0.2968 - col_0_accuracy: 0.7107 - col_1_accuracy: 0.8403 - col_2_accuracy: 0.9186 - val_loss: 1.3380 - val_col_0_loss: 0.6001 - val_col_1_loss: 0.4369 - val_col_2_loss: 0.3009 - val_col_0_accuracy: 0.7152 - val_col_1_accuracy: 0.8413 - val_col_2_accuracy: 0.9104\n",
      "Epoch 12/15\n",
      "129/129 [==============================] - 23s 182ms/step - loss: 1.3875 - col_0_loss: 0.6235 - col_1_loss: 0.4714 - col_2_loss: 0.2926 - col_0_accuracy: 0.7288 - col_1_accuracy: 0.8357 - col_2_accuracy: 0.9187 - val_loss: 1.3355 - val_col_0_loss: 0.5981 - val_col_1_loss: 0.4367 - val_col_2_loss: 0.3008 - val_col_0_accuracy: 0.7152 - val_col_1_accuracy: 0.8413 - val_col_2_accuracy: 0.9104\n",
      "Epoch 13/15\n",
      "129/129 [==============================] - 23s 181ms/step - loss: 1.3935 - col_0_loss: 0.6246 - col_1_loss: 0.4665 - col_2_loss: 0.3024 - col_0_accuracy: 0.7173 - col_1_accuracy: 0.8338 - col_2_accuracy: 0.9176 - val_loss: 1.3338 - val_col_0_loss: 0.5966 - val_col_1_loss: 0.4366 - val_col_2_loss: 0.3007 - val_col_0_accuracy: 0.7152 - val_col_1_accuracy: 0.8413 - val_col_2_accuracy: 0.9104\n",
      "Epoch 14/15\n",
      "129/129 [==============================] - 23s 181ms/step - loss: 1.3983 - col_0_loss: 0.6228 - col_1_loss: 0.4670 - col_2_loss: 0.3085 - col_0_accuracy: 0.7212 - col_1_accuracy: 0.8379 - col_2_accuracy: 0.9157 - val_loss: 1.3327 - val_col_0_loss: 0.5957 - val_col_1_loss: 0.4364 - val_col_2_loss: 0.3006 - val_col_0_accuracy: 0.7152 - val_col_1_accuracy: 0.8413 - val_col_2_accuracy: 0.9104\n",
      "Epoch 15/15\n",
      "129/129 [==============================] - 23s 182ms/step - loss: 1.4053 - col_0_loss: 0.6277 - col_1_loss: 0.4829 - col_2_loss: 0.2947 - col_0_accuracy: 0.7155 - col_1_accuracy: 0.8304 - col_2_accuracy: 0.9191 - val_loss: 1.3319 - val_col_0_loss: 0.5951 - val_col_1_loss: 0.4362 - val_col_2_loss: 0.3005 - val_col_0_accuracy: 0.7152 - val_col_1_accuracy: 0.8413 - val_col_2_accuracy: 0.9104\n",
      "100\n"
     ]
    }
   ],
   "source": [
    "dbert_model = TFDistilBertModel.from_pretrained('distilbert-base-uncased')\n",
    "model = build_model(dbert_model, params={})\n",
    "model = compile_model(model)\n",
    "model, history = train_model(model, train_model_inputs_and_masks, val_model_inputs_and_masks, train_y, val_y, batch_size=64, num_epochs=10)\n",
    "\n",
    "#eval_dict = evaluate_model(model, test_model_inputs_and_masks, test_y)"
   ]
  },
  {
   "cell_type": "code",
   "execution_count": 393,
   "metadata": {
    "colab": {
     "base_uri": "https://localhost:8080/"
    },
    "id": "5bluz3EL3sAs",
    "outputId": "09c6430b-44d7-41e3-db64-ed910cd10b0a"
   },
   "outputs": [
    {
     "name": "stdout",
     "output_type": "stream",
     "text": [
      "41/41 [==============================] - 3s 75ms/step - loss: 1.2827 - col_0_loss: 0.5814 - col_1_loss: 0.4474 - col_2_loss: 0.2539 - col_0_accuracy: 0.7334 - col_1_accuracy: 0.8355 - col_2_accuracy: 0.9283\n"
     ]
    }
   ],
   "source": [
    "test_inp = test_model_inputs_and_masks['inputs']\n",
    "test_mask = test_model_inputs_and_masks['masks']\n",
    "\n",
    "col_0 = to_categorical(test_y['col_0'])\n",
    "col_1 = to_categorical(test_y['col_1'])\n",
    "col_2 = to_categorical(test_y['col_2'])\n",
    "\n",
    "model_eval = model.evaluate(  \n",
    "                        x={'inputs': test_inp, 'masks': test_mask}, \n",
    "                        y={'col_0': col_0, 'col_1': col_1, 'col_2': col_2},\n",
    ")\n",
    "\n"
   ]
  },
  {
   "cell_type": "code",
   "execution_count": 394,
   "metadata": {
    "colab": {
     "base_uri": "https://localhost:8080/"
    },
    "id": "8EzuUPOI3S24",
    "outputId": "f8e2e8e7-63fa-4e3e-88e6-ce7e3d32d5d9"
   },
   "outputs": [
    {
     "name": "stdout",
     "output_type": "stream",
     "text": [
      "WARNING:tensorflow:The parameters `output_attentions`, `output_hidden_states` and `use_cache` cannot be updated when calling a model.They have to be set to True/False in the config object (i.e.: `config=XConfig.from_pretrained('name', output_attentions=True)`).\n",
      "WARNING:tensorflow:The parameter `return_dict` cannot be set in graph mode and will always be set to `True`.\n"
     ]
    }
   ],
   "source": [
    "pred = model.predict([test_input, test_mask])"
   ]
  },
  {
   "cell_type": "code",
   "execution_count": 395,
   "metadata": {
    "colab": {
     "base_uri": "https://localhost:8080/"
    },
    "id": "HAihcxc3Dt1x",
    "outputId": "0b7dcde0-7d93-4612-8cb2-1875040dd0a3"
   },
   "outputs": [
    {
     "data": {
      "text/plain": [
       "{'col_0': array([[0.9850693 , 0.        ],\n",
       "        [1.0673974 , 0.        ],\n",
       "        [0.72135866, 0.        ],\n",
       "        ...,\n",
       "        [0.8490226 , 0.        ],\n",
       "        [0.4500274 , 0.        ],\n",
       "        [0.81230843, 0.        ]], dtype=float32),\n",
       " 'col_1': array([[1.7410517, 0.       ],\n",
       "        [1.6605916, 0.       ],\n",
       "        [2.0349128, 0.       ],\n",
       "        ...,\n",
       "        [1.8107558, 0.       ],\n",
       "        [1.7057273, 0.       ],\n",
       "        [1.833049 , 0.       ]], dtype=float32),\n",
       " 'col_2': array([[2.2151012, 0.       ],\n",
       "        [2.3828323, 0.       ],\n",
       "        [2.4055572, 0.       ],\n",
       "        ...,\n",
       "        [2.04493  , 0.       ],\n",
       "        [2.2472284, 0.       ],\n",
       "        [2.4473338, 0.       ]], dtype=float32)}"
      ]
     },
     "execution_count": 395,
     "metadata": {
      "tags": []
     },
     "output_type": "execute_result"
    }
   ],
   "source": [
    "pred"
   ]
  },
  {
   "cell_type": "code",
   "execution_count": 396,
   "metadata": {
    "colab": {
     "base_uri": "https://localhost:8080/",
     "height": 419
    },
    "id": "YX2ZkfXTEFtL",
    "outputId": "20836d5c-b20b-4cc4-d15b-3e2208d1495e"
   },
   "outputs": [
    {
     "data": {
      "text/html": [
       "<div>\n",
       "<style scoped>\n",
       "    .dataframe tbody tr th:only-of-type {\n",
       "        vertical-align: middle;\n",
       "    }\n",
       "\n",
       "    .dataframe tbody tr th {\n",
       "        vertical-align: top;\n",
       "    }\n",
       "\n",
       "    .dataframe thead th {\n",
       "        text-align: right;\n",
       "    }\n",
       "</style>\n",
       "<table border=\"1\" class=\"dataframe\">\n",
       "  <thead>\n",
       "    <tr style=\"text-align: right;\">\n",
       "      <th></th>\n",
       "      <th>col_0</th>\n",
       "      <th>col_1</th>\n",
       "      <th>col_2</th>\n",
       "      <th>original</th>\n",
       "    </tr>\n",
       "  </thead>\n",
       "  <tbody>\n",
       "    <tr>\n",
       "      <th>0</th>\n",
       "      <td>0</td>\n",
       "      <td>1</td>\n",
       "      <td>0</td>\n",
       "      <td>3</td>\n",
       "    </tr>\n",
       "    <tr>\n",
       "      <th>1</th>\n",
       "      <td>1</td>\n",
       "      <td>0</td>\n",
       "      <td>0</td>\n",
       "      <td>0</td>\n",
       "    </tr>\n",
       "    <tr>\n",
       "      <th>2</th>\n",
       "      <td>1</td>\n",
       "      <td>0</td>\n",
       "      <td>0</td>\n",
       "      <td>0</td>\n",
       "    </tr>\n",
       "    <tr>\n",
       "      <th>3</th>\n",
       "      <td>0</td>\n",
       "      <td>0</td>\n",
       "      <td>0</td>\n",
       "      <td>1</td>\n",
       "    </tr>\n",
       "    <tr>\n",
       "      <th>4</th>\n",
       "      <td>1</td>\n",
       "      <td>0</td>\n",
       "      <td>1</td>\n",
       "      <td>5</td>\n",
       "    </tr>\n",
       "    <tr>\n",
       "      <th>...</th>\n",
       "      <td>...</td>\n",
       "      <td>...</td>\n",
       "      <td>...</td>\n",
       "      <td>...</td>\n",
       "    </tr>\n",
       "    <tr>\n",
       "      <th>1278</th>\n",
       "      <td>0</td>\n",
       "      <td>0</td>\n",
       "      <td>0</td>\n",
       "      <td>1</td>\n",
       "    </tr>\n",
       "    <tr>\n",
       "      <th>1279</th>\n",
       "      <td>0</td>\n",
       "      <td>0</td>\n",
       "      <td>0</td>\n",
       "      <td>4</td>\n",
       "    </tr>\n",
       "    <tr>\n",
       "      <th>1280</th>\n",
       "      <td>0</td>\n",
       "      <td>0</td>\n",
       "      <td>0</td>\n",
       "      <td>4</td>\n",
       "    </tr>\n",
       "    <tr>\n",
       "      <th>1281</th>\n",
       "      <td>0</td>\n",
       "      <td>0</td>\n",
       "      <td>0</td>\n",
       "      <td>4</td>\n",
       "    </tr>\n",
       "    <tr>\n",
       "      <th>1282</th>\n",
       "      <td>1</td>\n",
       "      <td>0</td>\n",
       "      <td>0</td>\n",
       "      <td>0</td>\n",
       "    </tr>\n",
       "  </tbody>\n",
       "</table>\n",
       "<p>1283 rows × 4 columns</p>\n",
       "</div>"
      ],
      "text/plain": [
       "      col_0 col_1 col_2 original\n",
       "0         0     1     0        3\n",
       "1         1     0     0        0\n",
       "2         1     0     0        0\n",
       "3         0     0     0        1\n",
       "4         1     0     1        5\n",
       "...     ...   ...   ...      ...\n",
       "1278      0     0     0        1\n",
       "1279      0     0     0        4\n",
       "1280      0     0     0        4\n",
       "1281      0     0     0        4\n",
       "1282      1     0     0        0\n",
       "\n",
       "[1283 rows x 4 columns]"
      ]
     },
     "execution_count": 396,
     "metadata": {
      "tags": []
     },
     "output_type": "execute_result"
    }
   ],
   "source": [
    "test_y"
   ]
  },
  {
   "cell_type": "markdown",
   "metadata": {
    "id": "X_KZbODkaHu_"
   },
   "source": [
    "## Conclusions (TODO)\n",
    "TODO: Make Your Final Conclusions About Your Model (Answer questions below, answer in this cell)\n",
    "- a) What is driving your model's decisions?\n",
    "- b) Is your model biased in some ways? If so how? \n",
    "- c) Does your model accomplish the objectives? If not, is your model useful and how can you justify this?"
   ]
  },
  {
   "cell_type": "markdown",
   "metadata": {
    "id": "xid8Xf2naNZW"
   },
   "source": [
    "# Further exploration (REMOVE ALL CODE AFTER THIS CELL BEFORE SUBMISSION)\n",
    "Any code after this is not evaluated, and must be removed before submission.\n",
    "Leaving code below will result in losing marks."
   ]
  }
 ],
 "metadata": {
  "accelerator": "GPU",
  "colab": {
   "collapsed_sections": [],
   "name": "Vamsi_MMAI_894_Exercise_3_(1).ipynb",
   "provenance": []
  },
  "kernelspec": {
   "display_name": "Python 3",
   "language": "python",
   "name": "python3"
  },
  "language_info": {
   "codemirror_mode": {
    "name": "ipython",
    "version": 3
   },
   "file_extension": ".py",
   "mimetype": "text/x-python",
   "name": "python",
   "nbconvert_exporter": "python",
   "pygments_lexer": "ipython3",
   "version": "3.8.3"
  },
  "widgets": {
   "application/vnd.jupyter.widget-state+json": {
    "2756b65ad38449ef9f1326ecb2306001": {
     "model_module": "@jupyter-widgets/controls",
     "model_name": "FloatProgressModel",
     "state": {
      "_dom_classes": [],
      "_model_module": "@jupyter-widgets/controls",
      "_model_module_version": "1.5.0",
      "_model_name": "FloatProgressModel",
      "_view_count": null,
      "_view_module": "@jupyter-widgets/controls",
      "_view_module_version": "1.5.0",
      "_view_name": "ProgressView",
      "bar_style": "success",
      "description": "Downloading: 100%",
      "description_tooltip": null,
      "layout": "IPY_MODEL_71b24d1c5a9448bf9759980b395affbe",
      "max": 231508,
      "min": 0,
      "orientation": "horizontal",
      "style": "IPY_MODEL_4fe6667d1aab458eac82658dafc4b8ca",
      "value": 231508
     }
    },
    "311864b5ee9c4a1885333ff63d1a179e": {
     "model_module": "@jupyter-widgets/controls",
     "model_name": "HBoxModel",
     "state": {
      "_dom_classes": [],
      "_model_module": "@jupyter-widgets/controls",
      "_model_module_version": "1.5.0",
      "_model_name": "HBoxModel",
      "_view_count": null,
      "_view_module": "@jupyter-widgets/controls",
      "_view_module_version": "1.5.0",
      "_view_name": "HBoxView",
      "box_style": "",
      "children": [
       "IPY_MODEL_2756b65ad38449ef9f1326ecb2306001",
       "IPY_MODEL_5475cd5758af4d509cd24bfc7fc83e8c"
      ],
      "layout": "IPY_MODEL_92ab36240c1a43b88be72e8176b412df"
     }
    },
    "44bab10120e04715920d29cd203526c6": {
     "model_module": "@jupyter-widgets/controls",
     "model_name": "DescriptionStyleModel",
     "state": {
      "_model_module": "@jupyter-widgets/controls",
      "_model_module_version": "1.5.0",
      "_model_name": "DescriptionStyleModel",
      "_view_count": null,
      "_view_module": "@jupyter-widgets/base",
      "_view_module_version": "1.2.0",
      "_view_name": "StyleView",
      "description_width": ""
     }
    },
    "4904ff5b32d141e38919e37a7f255ab5": {
     "model_module": "@jupyter-widgets/base",
     "model_name": "LayoutModel",
     "state": {
      "_model_module": "@jupyter-widgets/base",
      "_model_module_version": "1.2.0",
      "_model_name": "LayoutModel",
      "_view_count": null,
      "_view_module": "@jupyter-widgets/base",
      "_view_module_version": "1.2.0",
      "_view_name": "LayoutView",
      "align_content": null,
      "align_items": null,
      "align_self": null,
      "border": null,
      "bottom": null,
      "display": null,
      "flex": null,
      "flex_flow": null,
      "grid_area": null,
      "grid_auto_columns": null,
      "grid_auto_flow": null,
      "grid_auto_rows": null,
      "grid_column": null,
      "grid_gap": null,
      "grid_row": null,
      "grid_template_areas": null,
      "grid_template_columns": null,
      "grid_template_rows": null,
      "height": null,
      "justify_content": null,
      "justify_items": null,
      "left": null,
      "margin": null,
      "max_height": null,
      "max_width": null,
      "min_height": null,
      "min_width": null,
      "object_fit": null,
      "object_position": null,
      "order": null,
      "overflow": null,
      "overflow_x": null,
      "overflow_y": null,
      "padding": null,
      "right": null,
      "top": null,
      "visibility": null,
      "width": null
     }
    },
    "4fe6667d1aab458eac82658dafc4b8ca": {
     "model_module": "@jupyter-widgets/controls",
     "model_name": "ProgressStyleModel",
     "state": {
      "_model_module": "@jupyter-widgets/controls",
      "_model_module_version": "1.5.0",
      "_model_name": "ProgressStyleModel",
      "_view_count": null,
      "_view_module": "@jupyter-widgets/base",
      "_view_module_version": "1.2.0",
      "_view_name": "StyleView",
      "bar_color": null,
      "description_width": "initial"
     }
    },
    "5475cd5758af4d509cd24bfc7fc83e8c": {
     "model_module": "@jupyter-widgets/controls",
     "model_name": "HTMLModel",
     "state": {
      "_dom_classes": [],
      "_model_module": "@jupyter-widgets/controls",
      "_model_module_version": "1.5.0",
      "_model_name": "HTMLModel",
      "_view_count": null,
      "_view_module": "@jupyter-widgets/controls",
      "_view_module_version": "1.5.0",
      "_view_name": "HTMLView",
      "description": "",
      "description_tooltip": null,
      "layout": "IPY_MODEL_4904ff5b32d141e38919e37a7f255ab5",
      "placeholder": "​",
      "style": "IPY_MODEL_44bab10120e04715920d29cd203526c6",
      "value": " 232k/232k [00:00&lt;00:00, 808kB/s]"
     }
    },
    "71b24d1c5a9448bf9759980b395affbe": {
     "model_module": "@jupyter-widgets/base",
     "model_name": "LayoutModel",
     "state": {
      "_model_module": "@jupyter-widgets/base",
      "_model_module_version": "1.2.0",
      "_model_name": "LayoutModel",
      "_view_count": null,
      "_view_module": "@jupyter-widgets/base",
      "_view_module_version": "1.2.0",
      "_view_name": "LayoutView",
      "align_content": null,
      "align_items": null,
      "align_self": null,
      "border": null,
      "bottom": null,
      "display": null,
      "flex": null,
      "flex_flow": null,
      "grid_area": null,
      "grid_auto_columns": null,
      "grid_auto_flow": null,
      "grid_auto_rows": null,
      "grid_column": null,
      "grid_gap": null,
      "grid_row": null,
      "grid_template_areas": null,
      "grid_template_columns": null,
      "grid_template_rows": null,
      "height": null,
      "justify_content": null,
      "justify_items": null,
      "left": null,
      "margin": null,
      "max_height": null,
      "max_width": null,
      "min_height": null,
      "min_width": null,
      "object_fit": null,
      "object_position": null,
      "order": null,
      "overflow": null,
      "overflow_x": null,
      "overflow_y": null,
      "padding": null,
      "right": null,
      "top": null,
      "visibility": null,
      "width": null
     }
    },
    "92ab36240c1a43b88be72e8176b412df": {
     "model_module": "@jupyter-widgets/base",
     "model_name": "LayoutModel",
     "state": {
      "_model_module": "@jupyter-widgets/base",
      "_model_module_version": "1.2.0",
      "_model_name": "LayoutModel",
      "_view_count": null,
      "_view_module": "@jupyter-widgets/base",
      "_view_module_version": "1.2.0",
      "_view_name": "LayoutView",
      "align_content": null,
      "align_items": null,
      "align_self": null,
      "border": null,
      "bottom": null,
      "display": null,
      "flex": null,
      "flex_flow": null,
      "grid_area": null,
      "grid_auto_columns": null,
      "grid_auto_flow": null,
      "grid_auto_rows": null,
      "grid_column": null,
      "grid_gap": null,
      "grid_row": null,
      "grid_template_areas": null,
      "grid_template_columns": null,
      "grid_template_rows": null,
      "height": null,
      "justify_content": null,
      "justify_items": null,
      "left": null,
      "margin": null,
      "max_height": null,
      "max_width": null,
      "min_height": null,
      "min_width": null,
      "object_fit": null,
      "object_position": null,
      "order": null,
      "overflow": null,
      "overflow_x": null,
      "overflow_y": null,
      "padding": null,
      "right": null,
      "top": null,
      "visibility": null,
      "width": null
     }
    }
   }
  }
 },
 "nbformat": 4,
 "nbformat_minor": 1
}
