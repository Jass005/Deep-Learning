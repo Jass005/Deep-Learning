{
  "nbformat": 4,
  "nbformat_minor": 0,
  "metadata": {
    "colab": {
      "name": "20249565_Narain_Jaswinder_ex2",
      "provenance": [],
      "collapsed_sections": []
    },
    "kernelspec": {
      "name": "python3",
      "display_name": "Python 3"
    },
    "accelerator": "GPU"
  },
  "cells": [
    {
      "cell_type": "markdown",
      "metadata": {
        "id": "WwG5uxEpKaNL"
      },
      "source": [
        "# MMAI 894 - Exercise 2\n",
        "## Convolutional artificial neural network : Image classification\n",
        "The goal of this excercise is to show you how to create your first neural network using the tensorflow/keras library. We will be using the MNIST dataset.\n",
        "\n",
        "Submission instructions:\n",
        "- You cannot edit this notebook directly. Save a copy to your drive, and make sure to identify yourself in the title using name and student number\n",
        "- Do not insert new cells before the final one (titled \"Further exploration\") \n",
        "- Select File -> Download as .py (important! not as ipynb)\n",
        "- Rename the file: `studentID_lastname_firstname_ex2.py`\n",
        "- Notebook must be able to _restart and run all_\n",
        "- The mark will be assessed on the implementation of the functions with #TODO\n",
        "- **Do not change anything outside the functions**  unless in the further exploration section\n",
        "- The mark is primarily based on correctness. However, as you are encouraged to explore the architecture, meeting high performance is required.\n",
        "\n",
        "- Do not use any additional libraries than the ones listed below (you may import additional modules from those libraries if needed)"
      ]
    },
    {
      "cell_type": "code",
      "metadata": {
        "id": "o-DUt8ROKlvw"
      },
      "source": [
        "# Import modules\n",
        "# Add modules as needed\n",
        "from sklearn.datasets import fetch_openml\n",
        "from sklearn.model_selection import train_test_split\n",
        "import numpy as np\n",
        "\n",
        "# For windows laptops add following 2 lines:\n",
        "# import matplotlib\n",
        "# matplotlib.use('agg')\n",
        "\n",
        "import matplotlib.pyplot as plt\n",
        "\n",
        "import tensorflow.keras as keras\n",
        "from tensorflow.keras.models import Sequential\n",
        "from tensorflow.keras.layers import Dense, Dropout, MaxPool2D, Conv2D, Flatten, MaxPooling2D\n"
      ],
      "execution_count": null,
      "outputs": []
    },
    {
      "cell_type": "markdown",
      "metadata": {
        "id": "arrbzOo4LR9q"
      },
      "source": [
        "### Data preparation\n",
        "\n",
        "#### Import data"
      ]
    },
    {
      "cell_type": "code",
      "metadata": {
        "id": "s4wT7dbPLTNZ"
      },
      "source": [
        "def load_data():\n",
        "    # Import MNIST dataset from openml\n",
        "    dataset = fetch_openml('mnist_784', version=1, data_home=None)\n",
        "\n",
        "    # Data preparation\n",
        "    raw_X = dataset['data']\n",
        "    raw_Y = dataset['target']\n",
        "    return raw_X, raw_Y\n",
        "\n",
        "raw_X, raw_Y = load_data()"
      ],
      "execution_count": null,
      "outputs": []
    },
    {
      "cell_type": "code",
      "metadata": {
        "colab": {
          "base_uri": "https://localhost:8080/"
        },
        "id": "Y_CONVMquH8j",
        "outputId": "4d5b7687-1da2-4b0a-a50a-3e66d096e96f"
      },
      "source": [
        "raw_X.shape\n"
      ],
      "execution_count": null,
      "outputs": [
        {
          "output_type": "execute_result",
          "data": {
            "text/plain": [
              "(70000, 784)"
            ]
          },
          "metadata": {
            "tags": []
          },
          "execution_count": 90
        }
      ]
    },
    {
      "cell_type": "markdown",
      "metadata": {
        "id": "WRp1jQTrLc39"
      },
      "source": [
        "## Consider the following\n",
        "- Same as excercise 1\n",
        "- what shape should x be for a convolutional network?"
      ]
    },
    {
      "cell_type": "code",
      "metadata": {
        "id": "8mG0hdDRLZgD"
      },
      "source": [
        "def clean_data(raw_X, raw_Y):\n",
        "    # TODO: clean and QA raw_X and raw_Y\n",
        "    # DO NOT CHANGE THE INPUTS OR OUTPUTS TO THIS FUNCTION\n",
        "    \n",
        "    # X transformation\n",
        "    cleaned_X = raw_X / 255\n",
        "    cleaned_X = cleaned_X.reshape(-1,28,28,1)\n",
        "\n",
        "    # Y transformation\n",
        "    cleaned_Y = keras.utils.to_categorical(raw_Y)\n",
        "   \n",
        "    return cleaned_X, cleaned_Y\n",
        "\n",
        "cleaned_X, cleaned_Y = clean_data(raw_X, raw_Y)"
      ],
      "execution_count": null,
      "outputs": []
    },
    {
      "cell_type": "code",
      "metadata": {
        "colab": {
          "base_uri": "https://localhost:8080/"
        },
        "id": "FX0MNgAdulwj",
        "outputId": "da9fdfdc-bd7c-4fbc-9354-f7000a5887be"
      },
      "source": [
        "cleaned_X.shape\n",
        "#cleaned_Y\n",
        "#clean_data(raw_X, raw_Y)"
      ],
      "execution_count": null,
      "outputs": [
        {
          "output_type": "execute_result",
          "data": {
            "text/plain": [
              "(70000, 28, 28, 1)"
            ]
          },
          "metadata": {
            "tags": []
          },
          "execution_count": 92
        }
      ]
    },
    {
      "cell_type": "markdown",
      "metadata": {
        "id": "K5OYgzj7NU_y"
      },
      "source": [
        "#### Data split\n",
        "\n",
        "- Split your data into a train set (50%), validation set (20%) and a test set (30%). You can use scikit-learn's train_test_split function."
      ]
    },
    {
      "cell_type": "code",
      "metadata": {
        "id": "7h7HIVDNNYap"
      },
      "source": [
        "def split_data(cleaned_X, cleaned_Y):\n",
        "    # TODO: split the data\n",
        "    # DO NOT CHANGE THE INPUTS OR OUTPUTS TO THIS FUNCTION\n",
        "    # Split into training, and val+test\n",
        "    X_train, X_test, Y_train, Y_test = train_test_split(cleaned_X, cleaned_Y, train_size=0.5)\n",
        "    # Split into val and test\n",
        "    X_val, X_test, Y_val, Y_test = train_test_split(X_train, Y_train, train_size=0.4)\n",
        "\n",
        "\n",
        "    \n",
        "    return X_val, X_test, X_train, Y_val, Y_test, Y_train\n",
        "\n",
        "X_val, X_test, X_train, Y_val, Y_test, Y_train = split_data(cleaned_X, cleaned_Y)"
      ],
      "execution_count": null,
      "outputs": []
    },
    {
      "cell_type": "code",
      "metadata": {
        "colab": {
          "base_uri": "https://localhost:8080/"
        },
        "id": "2TW93xkevTG6",
        "outputId": "9b0cd10e-585c-44a1-842f-899b53f41658"
      },
      "source": [
        "print('Train Shape: ', X_train.shape)\n",
        "print('Val shape:   ', X_val.shape)\n",
        "print('Test shape:  ', X_test.shape)\n"
      ],
      "execution_count": null,
      "outputs": [
        {
          "output_type": "stream",
          "text": [
            "Train Shape:  (35000, 28, 28, 1)\n",
            "Val shape:    (14000, 28, 28, 1)\n",
            "Test shape:   (21000, 28, 28, 1)\n"
          ],
          "name": "stdout"
        }
      ]
    },
    {
      "cell_type": "markdown",
      "metadata": {
        "id": "mY_z08TdNada"
      },
      "source": [
        "### Model\n",
        "\n",
        "#### Neural network structure\n",
        "\n",
        "This time, the exact model architecture is left to you to explore.  \n",
        "Keep the number of parameters below 2,000,000"
      ]
    },
    {
      "cell_type": "code",
      "metadata": {
        "id": "dKAx26EDN3Yk"
      },
      "source": [
        "def build_model():\n",
        "    # TODO: build the model, \n",
        "    # DO NOT CHANGE THE INPUTS OR OUTPUTS TO THIS FUNCTION\n",
        "    input_shape = [28,28,1]\n",
        "    model = Sequential()\n",
        "    #Convolution Layer\n",
        "    model.add(Conv2D(filters=64, padding='same', kernel_size=3, activation='relu', input_shape=[28,28,1]))\n",
        "    #Pooling Layer\n",
        "    model.add(MaxPool2D(pool_size=2, strides=2))\n",
        "\n",
        "    #2nd Convolution Layer\n",
        "    model.add(Conv2D(filters=128, padding='same', kernel_size=3,activation='relu'))\n",
        "    model.add(Conv2D(filters=128, padding='same', kernel_size=3,activation='relu'))\n",
        "    model.add(MaxPool2D(pool_size=2, strides=2))\n",
        "\n",
        "    #Flatterning layer\n",
        "    model.add(Flatten())\n",
        "\n",
        "    #Full Connection\n",
        "    model.add(Dense(units=128, activation='relu'))\n",
        "    model.add(Dropout(0.5))\n",
        "    model.add(Dense(units=64, activation='relu'))\n",
        "    model.add(Dropout(0.3))\n",
        "\n",
        "    #Output Layer\n",
        "    model.add(Dense(units=10, activation='softmax'))\n",
        "    \n",
        "    return model\n",
        "    \n",
        "#model = build_model()\n",
        "\n",
        "\n",
        "def compile_model(model):\n",
        "    # TODO: compile the model\n",
        "    # DO NOT CHANGE THE INPUTS OR OUTPUTS TO THIS FUNCTION\n",
        "    model.compile(optimizer='adam', loss='categorical_crossentropy', metrics=['accuracy'])\n",
        "\n",
        "    return model\n",
        "\n",
        "#model = compile_model(model)\n",
        "\n",
        "def train_model(model, X_train, Y_train, X_val, Y_val):\n",
        "    # TODO: train the model\n",
        "    # DO NOT CHANGE THE INPUTS OR OUTPUTS TO THIS FUNCTION\n",
        "    batch_size = 128\n",
        "    epochs = 12\n",
        "    history = model.fit(X_train, Y_train, batch_size=batch_size, verbose=1, epochs=epochs, validation_data=(X_val, Y_val))\n",
        "    return model, history\n",
        "#model, history = train_model(model, X_train, Y_train, X_val, Y_val)\n",
        " \n",
        "\n",
        "def eval_model(model, X_test, Y_test):\n",
        "    # TODO: evaluate the model\n",
        "    # DO NOT CHANGE THE INPUTS OR OUTPUTS TO THIS FUNCTION\n",
        "    score = model.evaluate(X_test, Y_test, verbose=0)\n",
        "    #print('\\nPerformance on test set:')\n",
        "    #print('Test Loss: ', score[0])\n",
        "    #print('Test Accuracy: ', score[1])\n",
        "\n",
        "    test_loss = score[0]\n",
        "    test_accuracy = score[1]\n",
        "  \n",
        "    return test_loss, test_accuracy\n",
        "  "
      ],
      "execution_count": null,
      "outputs": []
    },
    {
      "cell_type": "code",
      "metadata": {
        "colab": {
          "base_uri": "https://localhost:8080/"
        },
        "id": "sZAQYT5WE-vN",
        "outputId": "0cf0c11b-c96c-45fa-daa4-c8fc6d884e58"
      },
      "source": [
        "model.summary()"
      ],
      "execution_count": null,
      "outputs": [
        {
          "output_type": "stream",
          "text": [
            "Model: \"sequential_31\"\n",
            "_________________________________________________________________\n",
            "Layer (type)                 Output Shape              Param #   \n",
            "=================================================================\n",
            "conv2d_96 (Conv2D)           (None, 28, 28, 64)        640       \n",
            "_________________________________________________________________\n",
            "max_pooling2d_67 (MaxPooling (None, 14, 14, 64)        0         \n",
            "_________________________________________________________________\n",
            "conv2d_97 (Conv2D)           (None, 14, 14, 128)       73856     \n",
            "_________________________________________________________________\n",
            "conv2d_98 (Conv2D)           (None, 14, 14, 128)       147584    \n",
            "_________________________________________________________________\n",
            "max_pooling2d_68 (MaxPooling (None, 7, 7, 128)         0         \n",
            "_________________________________________________________________\n",
            "flatten_29 (Flatten)         (None, 6272)              0         \n",
            "_________________________________________________________________\n",
            "dense_84 (Dense)             (None, 128)               802944    \n",
            "_________________________________________________________________\n",
            "dropout_44 (Dropout)         (None, 128)               0         \n",
            "_________________________________________________________________\n",
            "dense_85 (Dense)             (None, 64)                8256      \n",
            "_________________________________________________________________\n",
            "dropout_45 (Dropout)         (None, 64)                0         \n",
            "_________________________________________________________________\n",
            "dense_86 (Dense)             (None, 10)                650       \n",
            "=================================================================\n",
            "Total params: 1,033,930\n",
            "Trainable params: 1,033,930\n",
            "Non-trainable params: 0\n",
            "_________________________________________________________________\n"
          ],
          "name": "stdout"
        }
      ]
    },
    {
      "cell_type": "code",
      "metadata": {
        "id": "Bg5E9ChPOt_l",
        "colab": {
          "base_uri": "https://localhost:8080/"
        },
        "outputId": "59dde52c-b626-40cb-d57b-ea93899b07b9"
      },
      "source": [
        "## You may use this space (and add additional cells for exploration)\n",
        "\n",
        "model = build_model()\n",
        "model = compile_model(model)\n",
        "model, history = train_model(model, X_train, Y_train, X_val, Y_val)\n",
        "test_loss, test_accuracy = eval_model(model, X_test, Y_test)\n",
        "\n",
        "print('\\nPerformance on test set:')\n",
        "print('Test Loss: ', test_loss)\n",
        "print('Test Accuracy: ', test_accuracy)"
      ],
      "execution_count": null,
      "outputs": [
        {
          "output_type": "stream",
          "text": [
            "Epoch 1/12\n",
            "274/274 [==============================] - 4s 13ms/step - loss: 0.9182 - accuracy: 0.6849 - val_loss: 0.0781 - val_accuracy: 0.9772\n",
            "Epoch 2/12\n",
            "274/274 [==============================] - 3s 12ms/step - loss: 0.1606 - accuracy: 0.9551 - val_loss: 0.0478 - val_accuracy: 0.9875\n",
            "Epoch 3/12\n",
            "274/274 [==============================] - 3s 12ms/step - loss: 0.1044 - accuracy: 0.9705 - val_loss: 0.0350 - val_accuracy: 0.9905\n",
            "Epoch 4/12\n",
            "274/274 [==============================] - 3s 12ms/step - loss: 0.0805 - accuracy: 0.9789 - val_loss: 0.0229 - val_accuracy: 0.9933\n",
            "Epoch 5/12\n",
            "274/274 [==============================] - 3s 12ms/step - loss: 0.0634 - accuracy: 0.9830 - val_loss: 0.0189 - val_accuracy: 0.9946\n",
            "Epoch 6/12\n",
            "274/274 [==============================] - 3s 12ms/step - loss: 0.0525 - accuracy: 0.9854 - val_loss: 0.0171 - val_accuracy: 0.9948\n",
            "Epoch 7/12\n",
            "274/274 [==============================] - 3s 12ms/step - loss: 0.0530 - accuracy: 0.9865 - val_loss: 0.0103 - val_accuracy: 0.9972\n",
            "Epoch 8/12\n",
            "274/274 [==============================] - 3s 12ms/step - loss: 0.0380 - accuracy: 0.9888 - val_loss: 0.0143 - val_accuracy: 0.9956\n",
            "Epoch 9/12\n",
            "274/274 [==============================] - 3s 12ms/step - loss: 0.0355 - accuracy: 0.9900 - val_loss: 0.0066 - val_accuracy: 0.9984\n",
            "Epoch 10/12\n",
            "274/274 [==============================] - 3s 12ms/step - loss: 0.0312 - accuracy: 0.9910 - val_loss: 0.0120 - val_accuracy: 0.9968\n",
            "Epoch 11/12\n",
            "274/274 [==============================] - 3s 12ms/step - loss: 0.0268 - accuracy: 0.9928 - val_loss: 0.0052 - val_accuracy: 0.9986\n",
            "Epoch 12/12\n",
            "274/274 [==============================] - 3s 12ms/step - loss: 0.0224 - accuracy: 0.9933 - val_loss: 0.0120 - val_accuracy: 0.9963\n",
            "\n",
            "Performance on test set:\n",
            "Test Loss:  0.009370002895593643\n",
            "Test Accuracy:  0.9972857236862183\n"
          ],
          "name": "stdout"
        }
      ]
    },
    {
      "cell_type": "code",
      "metadata": {
        "colab": {
          "base_uri": "https://localhost:8080/",
          "height": 353
        },
        "id": "Kw7YUq4E7wPv",
        "outputId": "d971bb78-b33c-4614-f322-ad32fd5c5ef1"
      },
      "source": [
        "# Plot loss trajectory throughout training.\n",
        "plt.figure(1, figsize=(14,5))\n",
        "plt.subplot(1,2,1)\n",
        "plt.plot(history.history['loss'], label='train')\n",
        "plt.plot(history.history['val_loss'], label='valid')\n",
        "plt.xlabel('Epoch')\n",
        "plt.ylabel('Cross-Entropy Loss')\n",
        "plt.legend()\n",
        "\n",
        "plt.subplot(1,2,2)\n",
        "plt.plot(history.history['accuracy'], label='train')\n",
        "plt.plot(history.history['val_accuracy'], label='valid')\n",
        "plt.xlabel('Epoch')\n",
        "plt.ylabel('Accuracy')\n",
        "plt.legend()"
      ],
      "execution_count": null,
      "outputs": [
        {
          "output_type": "execute_result",
          "data": {
            "text/plain": [
              "<matplotlib.legend.Legend at 0x7f0bd03d2d30>"
            ]
          },
          "metadata": {
            "tags": []
          },
          "execution_count": 100
        },
        {
          "output_type": "display_data",
          "data": {
            "image/png": "[encoded data removed]",
            "text/plain": [
              "<Figure size 1008x360 with 2 Axes>"
            ]
          },
          "metadata": {
            "tags": [],
            "needs_background": "light"
          }
        }
      ]
    },
    {
      "cell_type": "code",
      "metadata": {
        "colab": {
          "base_uri": "https://localhost:8080/",
          "height": 521
        },
        "id": "4mRI3Vwa65YX",
        "outputId": "00f3cb51-1c3a-45af-da20-170e24139232"
      },
      "source": [
        "#incorrect prediction images\n",
        "import numpy as np\n",
        "\n",
        "predicted_classes = model.predict_classes(X_test)\n",
        "correct_indices   = np.nonzero(predicted_classes == Y_test.argmax(axis=-1))[0]\n",
        "incorrect_indices = np.nonzero(predicted_classes != Y_test.argmax(axis=-1))[0]\n",
        "print('\\nA few incorrectly classified images:')    \n",
        "plt.figure(2, figsize=(7,7))\n",
        "for i, incorrect in enumerate(incorrect_indices[:9]):\n",
        "    plt.subplot(3,3,i+1)\n",
        "    plt.imshow(X_test[incorrect].reshape(28,28), cmap='gray', interpolation='none')\n",
        "    plt.title(\"Predicted {}, Class {}\".format(predicted_classes[incorrect], Y_test[incorrect].argmax(axis=-1)))\n",
        "    plt.xticks([])\n",
        "    plt.yticks([])"
      ],
      "execution_count": null,
      "outputs": [
        {
          "output_type": "stream",
          "text": [
            "/usr/local/lib/python3.6/dist-packages/tensorflow/python/keras/engine/sequential.py:450: UserWarning: `model.predict_classes()` is deprecated and will be removed after 2021-01-01. Please use instead:* `np.argmax(model.predict(x), axis=-1)`,   if your model does multi-class classification   (e.g. if it uses a `softmax` last-layer activation).* `(model.predict(x) > 0.5).astype(\"int32\")`,   if your model does binary classification   (e.g. if it uses a `sigmoid` last-layer activation).\n",
            "  warnings.warn('`model.predict_classes()` is deprecated and '\n"
          ],
          "name": "stderr"
        },
        {
          "output_type": "stream",
          "text": [
            "\n",
            "A few incorrectly classified images:\n"
          ],
          "name": "stdout"
        },
        {
          "output_type": "display_data",
          "data": {
            "image/png": "[encoded data removed]",
            "text/plain": [
              "<Figure size 504x504 with 9 Axes>"
            ]
          },
          "metadata": {
            "tags": []
          }
        }
      ]
    },
    {
      "cell_type": "code",
      "metadata": {
        "colab": {
          "base_uri": "https://localhost:8080/",
          "height": 431
        },
        "id": "J-cb_3CY7hJ7",
        "outputId": "65cc6698-6d18-4e0c-bf3f-2597d6519215"
      },
      "source": [
        "#correct image prediction\n",
        "plt.figure(1, figsize=(7,7))\n",
        "for i, correct in enumerate(correct_indices[:9]):\n",
        "    plt.subplot(3,3,i+1)\n",
        "    plt.imshow(X_test[correct].reshape(28,28), cmap='gray', interpolation='none')\n",
        "    plt.title(\"Predicted {}, Class {}\".format(predicted_classes[correct], Y_test[correct].argmax(axis=-1)))\n",
        "    plt.xticks([])\n",
        "    plt.yticks([])"
      ],
      "execution_count": null,
      "outputs": [
        {
          "output_type": "display_data",
          "data": {
            "image/png": "[encoded data removed]",
            "text/plain": [
              "<Figure size 504x504 with 9 Axes>"
            ]
          },
          "metadata": {
            "tags": []
          }
        }
      ]
    }
  ]
}