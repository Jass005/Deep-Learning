{
  "nbformat": 4,
  "nbformat_minor": 0,
  "metadata": {
    "colab": {
      "name": "20249565_Narain_Jaswinder_ex1",
      "provenance": [],
      "collapsed_sections": []
    },
    "kernelspec": {
      "name": "python3",
      "display_name": "Python 3"
    }
  },
  "cells": [
    {
      "cell_type": "markdown",
      "metadata": {
        "id": "hy0azQCVlCiR"
      },
      "source": [
        "# MMAI 894 - Exercise 1\n",
        "## Feedforward artificial neural network : Image classification\n",
        "The goal of this excercise is to show you how to create your first neural network using the tensorflow/keras library. We will be using the MNIST dataset.\n",
        "\n",
        "Submission instructions:\n",
        "- You cannot edit this notebook directly. Save a copy to your drive, and make sure to identify yourself in the title using name and student number\n",
        "- Do not insert new cells before the final one (titled \"Further exploration\") \n",
        "- Select File -> Download as .py (important! not as ipynb)\n",
        "- Rename the file: `studentID_lastname_firstname_ex1.py`\n",
        "- Notebook must be able to _restart and run all_\n",
        "- The mark will be assessed on the implementation of the functions with #TODO\n",
        "- **Do not change anything outside the functions**  unless in the further exploration section\n",
        "- The mark is not based on final accuracy - only on correctness\n",
        "\n",
        "- Do not use any additional libraries than the ones listed below (you may import additional modules from those libraries if needed)\n",
        "\n",
        "References\n",
        "- https://keras.io/getting-started/sequential-model-guide/\n",
        "- https://keras.io/api/utils/python_utils/#to_categorical-function\n",
        "- https://scikit-learn.org/stable/modules/generated/sklearn.model_selection.train_test_split.html\n",
        "- https://keras.io/api/layers/core_layers/dense/\n",
        "- https://keras.io/api/layers/regularization_layers/dropout/\n",
        "- https://keras.io/api/models/model_training_apis/\n"
      ]
    },
    {
      "cell_type": "markdown",
      "metadata": {
        "id": "qp33aomJmJtl"
      },
      "source": [
        "### Libraries"
      ]
    },
    {
      "cell_type": "code",
      "metadata": {
        "id": "trOyfziVgETH"
      },
      "source": [
        "# Import modules\n",
        "# Add modules as needed\n",
        "from sklearn.datasets import fetch_openml\n",
        "from sklearn.model_selection import train_test_split\n",
        "\n",
        "# For windows laptops add following 2 lines:\n",
        "# import matplotlib\n",
        "# matplotlib.use('agg')\n",
        "\n",
        "import matplotlib.pyplot as plt\n",
        "\n",
        "import tensorflow.keras as keras\n",
        "from keras.utils import to_categorical\n",
        "from tensorflow.keras.models import Sequential\n",
        "from tensorflow.keras.layers import Dense, Dropout"
      ],
      "execution_count": null,
      "outputs": []
    },
    {
      "cell_type": "markdown",
      "metadata": {
        "id": "_ZmZEVmTmQGH"
      },
      "source": [
        "### Data preparation\n",
        "\n",
        "#### Import data"
      ]
    },
    {
      "cell_type": "code",
      "metadata": {
        "id": "0gRy7rVvg_Sl"
      },
      "source": [
        "def load_data():\n",
        "    # Import MNIST dataset from openml\n",
        "    dataset = fetch_openml('mnist_784', version=1, data_home=None)\n",
        "\n",
        "    # Data preparation\n",
        "    raw_X = dataset['data']\n",
        "    raw_Y = dataset['target']\n",
        "    return raw_X, raw_Y\n",
        "\n",
        "raw_X, raw_Y = load_data()\n"
      ],
      "execution_count": null,
      "outputs": []
    },
    {
      "cell_type": "markdown",
      "metadata": {
        "id": "YEwXHBQh8r93"
      },
      "source": [
        "## Consider the following\n",
        "- what shape is X?\n",
        "\n",
        "- what value ranges does X take?\n",
        "  \n",
        " - might this present a problem? \n",
        " \n",
        "  - what transformations need to be applied?\n",
        "\n",
        "\n",
        "\n",
        "\n",
        "- what shape is Y?\n",
        "- what value ranges does Y take? \n",
        " - what transformations should be applied?"
      ]
    },
    {
      "cell_type": "code",
      "metadata": {
        "colab": {
          "base_uri": "https://localhost:8080/"
        },
        "id": "G5s0DgKw11E0",
        "outputId": "d53c1d2a-7a14-4a82-8ff0-891b1651edd7"
      },
      "source": [
        "print('Q: what shape is X?')\n",
        "print('Shape of X:', raw_X.shape)\n",
        "print('\\n')\n",
        "print('Q: what value ranges does X take?')\n",
        "print('Range of X is from %s to %s' % (raw_X.min(), raw_X.max()))\n",
        "print('\\n')\n",
        "print('   Q: might this present a problem?')\n",
        "print('   we neeed to transform the data from 0 to 1 range.')\n",
        "print('\\n')\n",
        "print('   Q: what transformations need to be applied?')\n",
        "print('   divide it by 255')\n",
        "\n",
        "print('\\n')\n",
        "print('Q: what shape is Y?')\n",
        "print('Shape of Y:', raw_Y.shape)\n",
        "print('\\n')\n",
        "print('Q: what value ranges does Y take?')\n",
        "print('Range of X is from %s to %s' % (raw_Y.min(), raw_Y.max()))\n",
        "print('\\n')\n",
        "print('   Q: what transformations should be applied?')\n",
        "print('   Convert it to categorical data')\n",
        "\n",
        "\n"
      ],
      "execution_count": null,
      "outputs": [
        {
          "output_type": "stream",
          "text": [
            "Q: what shape is X?\n",
            "Shape of X: (70000, 784)\n",
            "\n",
            "\n",
            "Q: what value ranges does X take?\n",
            "Range of X is from 0.0 to 255.0\n",
            "\n",
            "\n",
            "   Q: might this present a problem?\n",
            "   we neeed to transform the data from 0 to 1 range.\n",
            "\n",
            "\n",
            "   Q: what transformations need to be applied?\n",
            "   divide it by 255\n",
            "\n",
            "\n",
            "Q: what shape is Y?\n",
            "Shape of Y: (70000,)\n",
            "\n",
            "\n",
            "Q: what value ranges does Y take?\n",
            "Range of X is from 0 to 9\n",
            "\n",
            "\n",
            "   Q: what transformations should be applied?\n",
            "   Convert it to categorical data\n"
          ],
          "name": "stdout"
        }
      ]
    },
    {
      "cell_type": "code",
      "metadata": {
        "id": "RT499lYakFjo",
        "colab": {
          "base_uri": "https://localhost:8080/"
        },
        "outputId": "2494f454-3a86-45cb-8652-2c8fcd5c854e"
      },
      "source": [
        "def clean_data(raw_X, raw_Y):\n",
        "    # TODO: clean and QA raw_X and raw_Y\n",
        "    # DO NOT CHANGE THE INPUTS OR OUTPUTS TO THIS FUNCTION\n",
        "    print('Shape of X:', raw_X.shape)\n",
        "    print('Range of X is from %s to %s' % (raw_X.min(), raw_X.max()))\n",
        "    print('X labels:', raw_X)\n",
        "    \n",
        "    cleaned_X = raw_X.astype('float32') / 255   \n",
        "\n",
        "    \n",
        "    print('\\nShape of Y:', raw_Y.shape)\n",
        "    print('Range of X is from %s to %s' % (raw_Y.min(), raw_Y.max()))\n",
        "    print('X labels:', raw_Y)\n",
        "\n",
        "    # Categorically encode labels\n",
        "    cleaned_Y = to_categorical(raw_Y, 10)\n",
        "    \n",
        "    return cleaned_X, cleaned_Y\n",
        "\n",
        "cleaned_X, cleaned_Y = clean_data(raw_X, raw_Y)\n",
        "print('\\n')\n",
        "print('Clean Data:')\n",
        "print('-----------')\n",
        "clean_data(cleaned_X, cleaned_Y)"
      ],
      "execution_count": null,
      "outputs": [
        {
          "output_type": "stream",
          "text": [
            "Shape of X: (70000, 784)\n",
            "Range of X is from 0.0 to 255.0\n",
            "X labels: [[0. 0. 0. ... 0. 0. 0.]\n",
            " [0. 0. 0. ... 0. 0. 0.]\n",
            " [0. 0. 0. ... 0. 0. 0.]\n",
            " ...\n",
            " [0. 0. 0. ... 0. 0. 0.]\n",
            " [0. 0. 0. ... 0. 0. 0.]\n",
            " [0. 0. 0. ... 0. 0. 0.]]\n",
            "\n",
            "Shape of Y: (70000,)\n",
            "Range of X is from 0 to 9\n",
            "X labels: ['5' '0' '4' ... '4' '5' '6']\n",
            "\n",
            "\n",
            "Clean Data:\n",
            "-----------\n",
            "Shape of X: (70000, 784)\n",
            "Range of X is from 0.0 to 1.0\n",
            "X labels: [[0. 0. 0. ... 0. 0. 0.]\n",
            " [0. 0. 0. ... 0. 0. 0.]\n",
            " [0. 0. 0. ... 0. 0. 0.]\n",
            " ...\n",
            " [0. 0. 0. ... 0. 0. 0.]\n",
            " [0. 0. 0. ... 0. 0. 0.]\n",
            " [0. 0. 0. ... 0. 0. 0.]]\n",
            "\n",
            "Shape of Y: (70000, 10)\n",
            "Range of X is from 0.0 to 1.0\n",
            "X labels: [[0. 0. 0. ... 0. 0. 0.]\n",
            " [1. 0. 0. ... 0. 0. 0.]\n",
            " [0. 0. 0. ... 0. 0. 0.]\n",
            " ...\n",
            " [0. 0. 0. ... 0. 0. 0.]\n",
            " [0. 0. 0. ... 0. 0. 0.]\n",
            " [0. 0. 0. ... 0. 0. 0.]]\n"
          ],
          "name": "stdout"
        },
        {
          "output_type": "execute_result",
          "data": {
            "text/plain": [
              "(array([[0., 0., 0., ..., 0., 0., 0.],\n",
              "        [0., 0., 0., ..., 0., 0., 0.],\n",
              "        [0., 0., 0., ..., 0., 0., 0.],\n",
              "        ...,\n",
              "        [0., 0., 0., ..., 0., 0., 0.],\n",
              "        [0., 0., 0., ..., 0., 0., 0.],\n",
              "        [0., 0., 0., ..., 0., 0., 0.]], dtype=float32),\n",
              " array([[[1., 0., 0., ..., 0., 0., 0.],\n",
              "         [1., 0., 0., ..., 0., 0., 0.],\n",
              "         [1., 0., 0., ..., 0., 0., 0.],\n",
              "         ...,\n",
              "         [1., 0., 0., ..., 0., 0., 0.],\n",
              "         [1., 0., 0., ..., 0., 0., 0.],\n",
              "         [1., 0., 0., ..., 0., 0., 0.]],\n",
              " \n",
              "        [[0., 1., 0., ..., 0., 0., 0.],\n",
              "         [1., 0., 0., ..., 0., 0., 0.],\n",
              "         [1., 0., 0., ..., 0., 0., 0.],\n",
              "         ...,\n",
              "         [1., 0., 0., ..., 0., 0., 0.],\n",
              "         [1., 0., 0., ..., 0., 0., 0.],\n",
              "         [1., 0., 0., ..., 0., 0., 0.]],\n",
              " \n",
              "        [[1., 0., 0., ..., 0., 0., 0.],\n",
              "         [1., 0., 0., ..., 0., 0., 0.],\n",
              "         [1., 0., 0., ..., 0., 0., 0.],\n",
              "         ...,\n",
              "         [1., 0., 0., ..., 0., 0., 0.],\n",
              "         [1., 0., 0., ..., 0., 0., 0.],\n",
              "         [1., 0., 0., ..., 0., 0., 0.]],\n",
              " \n",
              "        ...,\n",
              " \n",
              "        [[1., 0., 0., ..., 0., 0., 0.],\n",
              "         [1., 0., 0., ..., 0., 0., 0.],\n",
              "         [1., 0., 0., ..., 0., 0., 0.],\n",
              "         ...,\n",
              "         [1., 0., 0., ..., 0., 0., 0.],\n",
              "         [1., 0., 0., ..., 0., 0., 0.],\n",
              "         [1., 0., 0., ..., 0., 0., 0.]],\n",
              " \n",
              "        [[1., 0., 0., ..., 0., 0., 0.],\n",
              "         [1., 0., 0., ..., 0., 0., 0.],\n",
              "         [1., 0., 0., ..., 0., 0., 0.],\n",
              "         ...,\n",
              "         [1., 0., 0., ..., 0., 0., 0.],\n",
              "         [1., 0., 0., ..., 0., 0., 0.],\n",
              "         [1., 0., 0., ..., 0., 0., 0.]],\n",
              " \n",
              "        [[1., 0., 0., ..., 0., 0., 0.],\n",
              "         [1., 0., 0., ..., 0., 0., 0.],\n",
              "         [1., 0., 0., ..., 0., 0., 0.],\n",
              "         ...,\n",
              "         [1., 0., 0., ..., 0., 0., 0.],\n",
              "         [1., 0., 0., ..., 0., 0., 0.],\n",
              "         [1., 0., 0., ..., 0., 0., 0.]]], dtype=float32))"
            ]
          },
          "metadata": {
            "tags": []
          },
          "execution_count": 5
        }
      ]
    },
    {
      "cell_type": "markdown",
      "metadata": {
        "id": "MpfxuSt4nKUw"
      },
      "source": [
        "#### Data split\n",
        "\n",
        "- Split your data into a train set (50%), validation set (20%) and a test set (30%). You can use scikit-learn's train_test_split function."
      ]
    },
    {
      "cell_type": "code",
      "metadata": {
        "id": "7gjkRpwbkP1j"
      },
      "source": [
        "def split_data(cleaned_X, cleaned_Y):\n",
        "    # TODO: split the data\n",
        "    # DO NOT CHANGE THE INPUTS OR OUTPUTS TO THIS FUNCTION\n",
        "    train_ratio = 0.50\n",
        "    validation_ratio = 0.20\n",
        "    test_ratio = 0.30\n",
        "\n",
        "    X_test, X_train, Y_test, Y_train = train_test_split(cleaned_X, cleaned_Y, test_size = 1-train_ratio, random_state=42)\n",
        "    \n",
        "    X_val, X_test, Y_val, Y_test = train_test_split(X_test, Y_test, train_size = validation_ratio/(test_ratio + validation_ratio), random_state = 42)\n",
        "\n",
        "\n",
        "    return X_val, X_test, X_train, Y_val, Y_test, Y_train\n",
        "\n",
        "\n",
        "\n",
        "X_val, X_test, X_train, Y_val, Y_test, Y_train = split_data(cleaned_X, cleaned_Y)\n"
      ],
      "execution_count": null,
      "outputs": []
    },
    {
      "cell_type": "code",
      "metadata": {
        "colab": {
          "base_uri": "https://localhost:8080/"
        },
        "id": "8eauuJgs9v-K",
        "outputId": "8dfdb3c1-2b39-4f2f-b0a9-c923bbb4ec6f"
      },
      "source": [
        "print('X_train:',X_train.shape)\n",
        "print('X_val:',X_val.shape)\n",
        "print('X_test:',X_test.shape)\n"
      ],
      "execution_count": null,
      "outputs": [
        {
          "output_type": "stream",
          "text": [
            "X_train: (35000, 784)\n",
            "X_val: (14000, 784)\n",
            "X_test: (21000, 784)\n"
          ],
          "name": "stdout"
        }
      ]
    },
    {
      "cell_type": "markdown",
      "metadata": {
        "id": "lGHlLLTanrUI"
      },
      "source": [
        "#### [Optional]: plot your data with matplotlib\n",
        "- Hint: you will need to reshape the row's data into a 28x28 matrix\n",
        "- https://matplotlib.org/3.1.1/api/_as_gen/matplotlib.pyplot.imshow.html\n",
        "- https://docs.scipy.org/doc/numpy/reference/generated/numpy.reshape.html"
      ]
    },
    {
      "cell_type": "code",
      "metadata": {
        "id": "wYpoQEMEkUhL",
        "colab": {
          "base_uri": "https://localhost:8080/",
          "height": 227
        },
        "outputId": "baadfa8d-7219-4789-f02a-a83a8e8515a1"
      },
      "source": [
        "def viz_data(X_train):\n",
        "    X_train_sample = X_train[:10, ]\n",
        "    # TODO: (optional) plot your data with matplotlib\n",
        "    # DO NOT CHANGE THE INPUTS OR OUTPUTS TO THIS FUNCTION\n",
        "    for i in range(10):\n",
        "      img = X_train_sample[i].reshape((28,28))\n",
        "      plt.subplot(2,5,i+1)\n",
        "      plt.imshow(img, cmap=\"Greys\")\n",
        "      #plt.show()\n",
        "      \n",
        "   \n",
        "viz_data(X_train)"
      ],
      "execution_count": null,
      "outputs": [
        {
          "output_type": "display_data",
          "data": {
            "image/png": "[encoded data removed]",
            "text/plain": [
              "<Figure size 432x288 with 10 Axes>"
            ]
          },
          "metadata": {
            "tags": [],
            "needs_background": "light"
          }
        }
      ]
    },
    {
      "cell_type": "markdown",
      "metadata": {
        "id": "WRTFvCTzn12X"
      },
      "source": [
        "### Model\n",
        "\n",
        "#### Neural network structure\n",
        "- For this network, we'll use 2 hidden layers\n",
        "- Layer 1 should have 128 nodes, a dropout rate of 20%, and relu as its activation function\n",
        "- Layer 2 should have 64 nodes, a dropout rate of 20%, and relu as its activation function\n",
        "- The last layer should map back to the 10 possible MNIST class. Use softmax as the activation\n",
        "\n"
      ]
    },
    {
      "cell_type": "code",
      "metadata": {
        "id": "pgoOjxY9ki_O",
        "colab": {
          "base_uri": "https://localhost:8080/"
        },
        "outputId": "fa977173-171a-4b20-f732-2b5f485ee27a"
      },
      "source": [
        "def build_model():\n",
        "    # TODO: build the model, \n",
        "    # HINT: you should have Total params: 109,386\n",
        "    # DO NOT CHANGE THE INPUTS OR OUTPUTS TO THIS FUNCTION\n",
        "    model = Sequential()\n",
        "      \n",
        "\n",
        "    #Adding the input layer and the first hidden layer\n",
        "    model.add(keras.layers.Flatten(input_shape=[28*28]))\n",
        "    model.add(Dense(units=128, activation='relu'))\n",
        "    #dropout rate of 20%\n",
        "    model.add(Dropout(.2))\n",
        "\n",
        "    #Layer 2 \n",
        "    model.add(Dense(units=64, activation='relu'))\n",
        "    model.add(Dropout(.20))\n",
        "\n",
        "    # Adding the output layer\n",
        "    model.add(Dense(units=10, activation='softmax', ))\n",
        "     \n",
        "    return model\n",
        "\n",
        "model = build_model()\n",
        "\n",
        "model.summary()\n",
        "\n"
      ],
      "execution_count": null,
      "outputs": [
        {
          "output_type": "stream",
          "text": [
            "Model: \"sequential\"\n",
            "_________________________________________________________________\n",
            "Layer (type)                 Output Shape              Param #   \n",
            "=================================================================\n",
            "flatten (Flatten)            (None, 784)               0         \n",
            "_________________________________________________________________\n",
            "dense (Dense)                (None, 128)               100480    \n",
            "_________________________________________________________________\n",
            "dropout (Dropout)            (None, 128)               0         \n",
            "_________________________________________________________________\n",
            "dense_1 (Dense)              (None, 64)                8256      \n",
            "_________________________________________________________________\n",
            "dropout_1 (Dropout)          (None, 64)                0         \n",
            "_________________________________________________________________\n",
            "dense_2 (Dense)              (None, 10)                650       \n",
            "=================================================================\n",
            "Total params: 109,386\n",
            "Trainable params: 109,386\n",
            "Non-trainable params: 0\n",
            "_________________________________________________________________\n"
          ],
          "name": "stdout"
        }
      ]
    },
    {
      "cell_type": "markdown",
      "metadata": {
        "id": "vqv4in2ZodVR"
      },
      "source": [
        "# Model compilation\n",
        "\n",
        "- what loss function should you use?\n",
        "- Note your choice of optimizer\n",
        "- Include accuracy as a metric\n",
        "\n",
        "# Model training\n",
        "- Use a batch size of 128, and train for 12 epochs\n",
        "- Use verbose training, include validation data\n"
      ]
    },
    {
      "cell_type": "code",
      "metadata": {
        "id": "dHD6wIDlk095",
        "colab": {
          "base_uri": "https://localhost:8080/"
        },
        "outputId": "d77aea96-5fe9-4256-94a3-561607462917"
      },
      "source": [
        "def compile_model(model):\n",
        "    # TODO: compile the model\n",
        "    # DO NOT CHANGE THE INPUTS OR OUTPUTS TO THIS FUNCTION\n",
        "    model.compile(optimizer = \"adam\", loss = 'categorical_crossentropy', metrics = ['accuracy'])       \n",
        "    return model\n",
        "\n",
        "def train_model(model, X_train, Y_train, X_val, Y_val):\n",
        "    # TODO: train the model\n",
        "    # DO NOT CHANGE THE INPUTS OR OUTPUTS TO THIS FUNCTION       \n",
        "    history = model.fit(X_train, Y_train, validation_data=(X_val, Y_val), batch_size= 128, epochs = 12, verbose=1)\n",
        "    return model, history\n",
        "\n",
        "model = compile_model(model)\n",
        "model, history = train_model(model, X_train, Y_train, X_val, Y_val)"
      ],
      "execution_count": null,
      "outputs": [
        {
          "output_type": "stream",
          "text": [
            "Epoch 1/12\n",
            "274/274 [==============================] - 2s 5ms/step - loss: 0.9531 - accuracy: 0.7049 - val_loss: 0.2358 - val_accuracy: 0.9279\n",
            "Epoch 2/12\n",
            "274/274 [==============================] - 1s 4ms/step - loss: 0.2774 - accuracy: 0.9187 - val_loss: 0.1623 - val_accuracy: 0.9506\n",
            "Epoch 3/12\n",
            "274/274 [==============================] - 1s 4ms/step - loss: 0.1997 - accuracy: 0.9403 - val_loss: 0.1402 - val_accuracy: 0.9577\n",
            "Epoch 4/12\n",
            "274/274 [==============================] - 1s 4ms/step - loss: 0.1676 - accuracy: 0.9504 - val_loss: 0.1211 - val_accuracy: 0.9635\n",
            "Epoch 5/12\n",
            "274/274 [==============================] - 1s 4ms/step - loss: 0.1448 - accuracy: 0.9563 - val_loss: 0.1107 - val_accuracy: 0.9661\n",
            "Epoch 6/12\n",
            "274/274 [==============================] - 1s 4ms/step - loss: 0.1188 - accuracy: 0.9641 - val_loss: 0.1032 - val_accuracy: 0.9693\n",
            "Epoch 7/12\n",
            "274/274 [==============================] - 1s 4ms/step - loss: 0.0997 - accuracy: 0.9692 - val_loss: 0.0973 - val_accuracy: 0.9694\n",
            "Epoch 8/12\n",
            "274/274 [==============================] - 1s 4ms/step - loss: 0.0900 - accuracy: 0.9733 - val_loss: 0.0922 - val_accuracy: 0.9713\n",
            "Epoch 9/12\n",
            "274/274 [==============================] - 1s 4ms/step - loss: 0.0841 - accuracy: 0.9750 - val_loss: 0.0924 - val_accuracy: 0.9724\n",
            "Epoch 10/12\n",
            "274/274 [==============================] - 1s 4ms/step - loss: 0.0743 - accuracy: 0.9768 - val_loss: 0.0919 - val_accuracy: 0.9721\n",
            "Epoch 11/12\n",
            "274/274 [==============================] - 1s 4ms/step - loss: 0.0682 - accuracy: 0.9792 - val_loss: 0.0908 - val_accuracy: 0.9728\n",
            "Epoch 12/12\n",
            "274/274 [==============================] - 1s 4ms/step - loss: 0.0682 - accuracy: 0.9769 - val_loss: 0.0920 - val_accuracy: 0.9753\n"
          ],
          "name": "stdout"
        }
      ]
    },
    {
      "cell_type": "markdown",
      "metadata": {
        "id": "v6wzs18_ormL"
      },
      "source": [
        "# Model evaluation\n",
        "- Show the performance on the test set\n",
        "- What is the difference between \"evaluate\" and \"predict\"?\n",
        "- Identify a few images the model classifies incorrectly. Any observations?"
      ]
    },
    {
      "cell_type": "code",
      "metadata": {
        "id": "jxrqJb9Uk3Hz",
        "colab": {
          "base_uri": "https://localhost:8080/",
          "height": 746
        },
        "outputId": "6a47b559-7185-46a4-b18a-36a1b350510b"
      },
      "source": [
        "def eval_model(model, X_test, Y_test):\n",
        "    # TODO: evaluate the model\n",
        "    # DO NOT CHANGE THE INPUTS OR OUTPUTS TO THIS FUNCTION\n",
        "    score = model.evaluate(X_test, Y_test, verbose=0)\n",
        "    test_loss = score[0]\n",
        "    test_accuracy = score[1]\n",
        "    print('Model performance on the test set:')\n",
        "    print('Test cross-entropy loss: %0.5f' % score[0])\n",
        "    print('Test accuracy: %0.2f' % score[1])\n",
        "\n",
        "    return test_loss, test_accuracy\n",
        "\n",
        "test_loss, test_accuracy = eval_model(model, X_test, Y_test)\n",
        "\n",
        "print('\\nevaluate() function evaluate the trainig model with the test set, it computes the loss based on the input passed and other evaluation metric like Accuracy' )\n",
        "print('whereas predict() function genrates output prediction of the model ')\n",
        "predictions = model.predict([X_test])\n",
        "print('\\nPredictions are output probability distributions:')\n",
        "print('First prediction:\\n', predictions[0])\n",
        "print('\\n')\n",
        "\n",
        "import numpy as np\n",
        "\n",
        "predicted_classes = model.predict_classes(X_test)\n",
        "correct_indices   = np.nonzero(predicted_classes == Y_test.argmax(axis=-1))[0]\n",
        "incorrect_indices = np.nonzero(predicted_classes != Y_test.argmax(axis=-1))[0]\n",
        "print('\\nA few incorrectly classified images:')    \n",
        "plt.figure(2, figsize=(7,7))\n",
        "for i, incorrect in enumerate(incorrect_indices[:9]):\n",
        "    plt.subplot(3,3,i+1)\n",
        "    plt.imshow(X_test[incorrect].reshape(28,28), cmap='gray', interpolation='none')\n",
        "    plt.title(\"Predicted {}, Class {}\".format(predicted_classes[incorrect], Y_test[incorrect].argmax(axis=-1)))\n",
        "    plt.xticks([])\n",
        "    plt.yticks([])\n"
      ],
      "execution_count": null,
      "outputs": [
        {
          "output_type": "stream",
          "text": [
            "Model performance on the test set:\n",
            "Test cross-entropy loss: 0.09535\n",
            "Test accuracy: 0.97\n",
            "\n",
            "evaluate() function evaluate the trainig model with the test set, it computes the loss based on the input passed and other evaluation metric like Accuracy\n",
            "whereas predict() function genrates output prediction of the model \n",
            "\n",
            "Predictions are output probability distributions:\n",
            "First prediction:\n",
            " [2.3445311e-07 6.4776609e-06 1.9541719e-06 3.4884238e-07 8.4975655e-12\n",
            " 9.9996185e-01 2.4509511e-05 2.1627974e-11 4.5998631e-06 6.6054263e-08]\n",
            "\n",
            "\n"
          ],
          "name": "stdout"
        },
        {
          "output_type": "stream",
          "text": [
            "/usr/local/lib/python3.6/dist-packages/tensorflow/python/keras/engine/sequential.py:450: UserWarning: `model.predict_classes()` is deprecated and will be removed after 2021-01-01. Please use instead:* `np.argmax(model.predict(x), axis=-1)`,   if your model does multi-class classification   (e.g. if it uses a `softmax` last-layer activation).* `(model.predict(x) > 0.5).astype(\"int32\")`,   if your model does binary classification   (e.g. if it uses a `sigmoid` last-layer activation).\n",
            "  warnings.warn('`model.predict_classes()` is deprecated and '\n"
          ],
          "name": "stderr"
        },
        {
          "output_type": "stream",
          "text": [
            "\n",
            "A few incorrectly classified images:\n"
          ],
          "name": "stdout"
        },
        {
          "output_type": "display_data",
          "data": {
            "image/png": "[encoded data removed]",
            "text/plain": [
              "<Figure size 504x504 with 9 Axes>"
            ]
          },
          "metadata": {
            "tags": []
          }
        }
      ]
    },
    {
      "cell_type": "markdown",
      "metadata": {
        "id": "u21sXyjWpnPX"
      },
      "source": [
        "## Further exploration (Not evaluated)\n",
        "Looking for something else  to do?\n",
        "- Transform your code to do hyperparameter search. \n",
        "- You can vary the number of nodes in the layers, the drop out rate, the optimizer and the parameters in Adam, the batch size, etc.\n"
      ]
    },
    {
      "cell_type": "code",
      "metadata": {
        "colab": {
          "base_uri": "https://localhost:8080/",
          "height": 431
        },
        "id": "f-c5CNeLWOvx",
        "outputId": "e4fa4d26-c735-4362-bc35-557c863c6fa3"
      },
      "source": [
        "#Correct predicted\n",
        "plt.figure(1, figsize=(7,7))\n",
        "for i, correct in enumerate(correct_indices[:9]):\n",
        "    plt.subplot(3,3,i+1)\n",
        "    plt.imshow(X_test[correct].reshape(28,28), cmap='gray', interpolation='none')\n",
        "    plt.title(\"Predicted {}, Class {}\".format(predicted_classes[correct], Y_test[correct].argmax(axis=-1)))\n",
        "    plt.xticks([])\n",
        "    plt.yticks([])"
      ],
      "execution_count": null,
      "outputs": [
        {
          "output_type": "display_data",
          "data": {
            "image/png": "[encoded data removed]",
            "text/plain": [
              "<Figure size 504x504 with 9 Axes>"
            ]
          },
          "metadata": {
            "tags": []
          }
        }
      ]
    },
    {
      "cell_type": "markdown",
      "metadata": {
        "id": "M2-3V06v0QaX"
      },
      "source": [
        "### Plot loss trajectory throughout training.\n",
        "\n"
      ]
    },
    {
      "cell_type": "code",
      "metadata": {
        "colab": {
          "base_uri": "https://localhost:8080/",
          "height": 351
        },
        "id": "yeUT2Yav1LSL",
        "outputId": "dfaef3ac-0b17-4966-ab1d-48924d4892d8"
      },
      "source": [
        "# Plot loss trajectory throughout training.\n",
        "plt.figure(1, figsize=(14,5))\n",
        "plt.subplot(1,2,1)\n",
        "plt.plot(history.history['loss'], label='train')\n",
        "plt.plot(history.history['val_loss'], label='valid')\n",
        "plt.xlabel('Epoch')\n",
        "plt.ylabel('Cross-Entropy Loss')\n",
        "plt.legend()\n",
        "\n",
        "plt.subplot(1,2,2)\n",
        "plt.plot(history.history['accuracy'], label='train')\n",
        "plt.plot(history.history['val_accuracy'], label='valid')\n",
        "plt.xlabel('Epoch')\n",
        "plt.ylabel('Accuracy')\n",
        "plt.legend()"
      ],
      "execution_count": null,
      "outputs": [
        {
          "output_type": "execute_result",
          "data": {
            "text/plain": [
              "<matplotlib.legend.Legend at 0x7f61d8279cc0>"
            ]
          },
          "metadata": {
            "tags": []
          },
          "execution_count": 13
        },
        {
          "output_type": "display_data",
          "data": {
            "image/png": "[encoded data removed]",
            "text/plain": [
              "<Figure size 1008x360 with 2 Axes>"
            ]
          },
          "metadata": {
            "tags": [],
            "needs_background": "light"
          }
        }
      ]
    },
    {
      "cell_type": "markdown",
      "metadata": {
        "id": "Kt3H9itIFtAK"
      },
      "source": [
        "###Increased the number of layers"
      ]
    },
    {
      "cell_type": "code",
      "metadata": {
        "colab": {
          "base_uri": "https://localhost:8080/"
        },
        "id": "fmOz0n7G1KDB",
        "outputId": "e5580149-2a3a-4037-b9a4-d416444baee3"
      },
      "source": [
        "def build_model1():\n",
        "    # TODO: build the model, \n",
        "    # HINT: you should have Total params: 109,386\n",
        "    # DO NOT CHANGE THE INPUTS OR OUTPUTS TO THIS FUNCTION\n",
        "    model_1 = Sequential()\n",
        "    IMGSIZE = 784\n",
        "    \n",
        "\n",
        "    #Adding the input layer and the first hidden layer\n",
        "    model_1.add(Dense(units=128, activation='relu', input_shape=(IMGSIZE, )))\n",
        "    #dropout rate of 10%\n",
        "    model_1.add(Dropout(.1))\n",
        "\n",
        "    #Layer 2 \n",
        "    model_1.add(Dense(units=64, activation='relu', input_shape=(IMGSIZE, )))\n",
        "    model_1.add(Dropout(.10))\n",
        "    #Layer 3\n",
        "    model_1.add(Dense(units=34, activation='relu', input_shape=(IMGSIZE, )))\n",
        "    \n",
        "    #Layer 4\n",
        "    model_1.add(Dense(units=34, activation='relu', input_shape=(IMGSIZE, )))\n",
        "    # Adding the output layer\n",
        "    model_1.add(Dense(units=10, activation='softmax', input_shape=(IMGSIZE, )))\n",
        "     \n",
        "    return model_1\n",
        "\n",
        "model_1 = build_model1()\n",
        "\n",
        "model_1.summary()\n"
      ],
      "execution_count": null,
      "outputs": [
        {
          "output_type": "stream",
          "text": [
            "Model: \"sequential_1\"\n",
            "_________________________________________________________________\n",
            "Layer (type)                 Output Shape              Param #   \n",
            "=================================================================\n",
            "dense_3 (Dense)              (None, 128)               100480    \n",
            "_________________________________________________________________\n",
            "dropout_2 (Dropout)          (None, 128)               0         \n",
            "_________________________________________________________________\n",
            "dense_4 (Dense)              (None, 64)                8256      \n",
            "_________________________________________________________________\n",
            "dropout_3 (Dropout)          (None, 64)                0         \n",
            "_________________________________________________________________\n",
            "dense_5 (Dense)              (None, 34)                2210      \n",
            "_________________________________________________________________\n",
            "dense_6 (Dense)              (None, 34)                1190      \n",
            "_________________________________________________________________\n",
            "dense_7 (Dense)              (None, 10)                350       \n",
            "=================================================================\n",
            "Total params: 112,486\n",
            "Trainable params: 112,486\n",
            "Non-trainable params: 0\n",
            "_________________________________________________________________\n"
          ],
          "name": "stdout"
        }
      ]
    },
    {
      "cell_type": "code",
      "metadata": {
        "colab": {
          "base_uri": "https://localhost:8080/"
        },
        "id": "8j1_lwH4FnY1",
        "outputId": "dabf1757-b59e-475f-a221-2efd7d92524a"
      },
      "source": [
        "def compile_model1(model_1):\n",
        "    # TODO: compile the model\n",
        "    # DO NOT CHANGE THE INPUTS OR OUTPUTS TO THIS FUNCTION\n",
        "    model_1.compile(optimizer = \"sgd\", loss = 'categorical_crossentropy', metrics = ['accuracy'])       \n",
        "    return model_1\n",
        "\n",
        "def train_model1(model_1, X_train, Y_train, X_val, Y_val):\n",
        "    # TODO: train the model\n",
        "    # DO NOT CHANGE THE INPUTS OR OUTPUTS TO THIS FUNCTION       \n",
        "    history_1 = model_1.fit(X_train, Y_train, validation_data=(X_val, Y_val), batch_size= 128, epochs = 12, verbose=1)\n",
        "    return model_1, history_1\n",
        "\n",
        "model_1 = compile_model(model_1)\n",
        "model_1, history_1 = train_model(model, X_train, Y_train, X_val, Y_val)"
      ],
      "execution_count": null,
      "outputs": [
        {
          "output_type": "stream",
          "text": [
            "Epoch 1/12\n",
            "274/274 [==============================] - 1s 4ms/step - loss: 0.0587 - accuracy: 0.9819 - val_loss: 0.0878 - val_accuracy: 0.9756\n",
            "Epoch 2/12\n",
            "274/274 [==============================] - 1s 4ms/step - loss: 0.0555 - accuracy: 0.9817 - val_loss: 0.0862 - val_accuracy: 0.9759\n",
            "Epoch 3/12\n",
            "274/274 [==============================] - 1s 4ms/step - loss: 0.0522 - accuracy: 0.9831 - val_loss: 0.0930 - val_accuracy: 0.9751\n",
            "Epoch 4/12\n",
            "274/274 [==============================] - 1s 4ms/step - loss: 0.0519 - accuracy: 0.9825 - val_loss: 0.0883 - val_accuracy: 0.9753\n",
            "Epoch 5/12\n",
            "274/274 [==============================] - 1s 4ms/step - loss: 0.0456 - accuracy: 0.9849 - val_loss: 0.0890 - val_accuracy: 0.9756\n",
            "Epoch 6/12\n",
            "274/274 [==============================] - 1s 4ms/step - loss: 0.0455 - accuracy: 0.9854 - val_loss: 0.0893 - val_accuracy: 0.9754\n",
            "Epoch 7/12\n",
            "274/274 [==============================] - 1s 4ms/step - loss: 0.0423 - accuracy: 0.9858 - val_loss: 0.0898 - val_accuracy: 0.9765\n",
            "Epoch 8/12\n",
            "274/274 [==============================] - 1s 4ms/step - loss: 0.0385 - accuracy: 0.9874 - val_loss: 0.0878 - val_accuracy: 0.9756\n",
            "Epoch 9/12\n",
            "274/274 [==============================] - 1s 4ms/step - loss: 0.0366 - accuracy: 0.9877 - val_loss: 0.0938 - val_accuracy: 0.9760\n",
            "Epoch 10/12\n",
            "274/274 [==============================] - 1s 4ms/step - loss: 0.0369 - accuracy: 0.9879 - val_loss: 0.0920 - val_accuracy: 0.9776\n",
            "Epoch 11/12\n",
            "274/274 [==============================] - 1s 4ms/step - loss: 0.0361 - accuracy: 0.9875 - val_loss: 0.0972 - val_accuracy: 0.9756\n",
            "Epoch 12/12\n",
            "274/274 [==============================] - 1s 4ms/step - loss: 0.0344 - accuracy: 0.9888 - val_loss: 0.0984 - val_accuracy: 0.9751\n"
          ],
          "name": "stdout"
        }
      ]
    },
    {
      "cell_type": "markdown",
      "metadata": {
        "id": "4Vb0fZApHH0a"
      },
      "source": [
        ""
      ]
    },
    {
      "cell_type": "code",
      "metadata": {
        "colab": {
          "base_uri": "https://localhost:8080/",
          "height": 363
        },
        "id": "QdI3k85OHFDZ",
        "outputId": "21334bb0-353e-43ac-e635-226d50f4d6b9"
      },
      "source": [
        "## Perform Hyperparameter Optimization\n",
        "from keras.wrappers.scikit_learn import KerasClassifier\n",
        "from sklearn.model_selection import GridSearchCV\n",
        "\n",
        "from keras.layers import Dense, Activation, Embedding, Flatten, LeakyReLU, BatchNormalization, Dropout\n",
        "from keras.activations import relu, sigmoid, softmax\n",
        "\n",
        "\n",
        "def create_model(layers, activation):\n",
        "  model = Sequential()\n",
        "  for i, nodes in enumerate(layers):\n",
        "    if i == 0:\n",
        "      model.add(Dense(nodes, input_dim = X_train.shape[1]))\n",
        "      model.add(Activation(activation))\n",
        "      model.add(Dropout(0.3))\n",
        "    else:\n",
        "      model.add(Dense(nodes))\n",
        "      model.add(Activation(activation))\n",
        "      model.add(Dropout(0.3))\n",
        "    model.add(Dense(10, activation='softmax'))\n",
        "\n",
        "    model.compile(optimizer='adam', loss='categorical_crossentropy', metrics=['accuracy'])\n",
        "    return model\n",
        "\n",
        "model = KerasClassifier(build_fn=create_model, verbose=0)\n",
        "\n",
        "layers = [[120], [80,60], [45,30,15]]\n",
        "activations = ['sigmoid', 'relu']\n",
        "param_grid = dict(layers=layers, activation=activations, batch_size=[128, 256], epochs=[30])\n",
        "grid = GridSearchCV(estimator = model, param_grid=param_grid, cv=5)\n",
        "#grid = GridSearchCV(estimator=model, param_grid=param_grid,cv=5)\n",
        "\n",
        "grid_result = grid.fit(X_train, Y_train)\n",
        "print(grid_result.best_score_,grid_result.best_params_)\n"
      ],
      "execution_count": null,
      "outputs": [
        {
          "output_type": "error",
          "ename": "RuntimeError",
          "evalue": "ignored",
          "traceback": [
            "\u001b[0;31m---------------------------------------------------------------------------\u001b[0m",
            "\u001b[0;31mRuntimeError\u001b[0m                              Traceback (most recent call last)",
            "\u001b[0;32m<ipython-input-16-b0925fd8daa0>\u001b[0m in \u001b[0;36m<module>\u001b[0;34m()\u001b[0m\n\u001b[1;32m     31\u001b[0m \u001b[0;31m#grid = GridSearchCV(estimator=model, param_grid=param_grid,cv=5)\u001b[0m\u001b[0;34m\u001b[0m\u001b[0;34m\u001b[0m\u001b[0;34m\u001b[0m\u001b[0m\n\u001b[1;32m     32\u001b[0m \u001b[0;34m\u001b[0m\u001b[0m\n\u001b[0;32m---> 33\u001b[0;31m \u001b[0mgrid_result\u001b[0m \u001b[0;34m=\u001b[0m \u001b[0mgrid\u001b[0m\u001b[0;34m.\u001b[0m\u001b[0mfit\u001b[0m\u001b[0;34m(\u001b[0m\u001b[0mX_train\u001b[0m\u001b[0;34m,\u001b[0m \u001b[0mY_train\u001b[0m\u001b[0;34m)\u001b[0m\u001b[0;34m\u001b[0m\u001b[0;34m\u001b[0m\u001b[0m\n\u001b[0m\u001b[1;32m     34\u001b[0m \u001b[0mprint\u001b[0m\u001b[0;34m(\u001b[0m\u001b[0mgrid_result\u001b[0m\u001b[0;34m.\u001b[0m\u001b[0mbest_score_\u001b[0m\u001b[0;34m,\u001b[0m\u001b[0mgrid_result\u001b[0m\u001b[0;34m.\u001b[0m\u001b[0mbest_params_\u001b[0m\u001b[0;34m)\u001b[0m\u001b[0;34m\u001b[0m\u001b[0;34m\u001b[0m\u001b[0m\n",
            "\u001b[0;32m/usr/local/lib/python3.6/dist-packages/sklearn/model_selection/_search.py\u001b[0m in \u001b[0;36mfit\u001b[0;34m(self, X, y, groups, **fit_params)\u001b[0m\n\u001b[1;32m    734\u001b[0m             \u001b[0;31m# of the params are estimators as well.\u001b[0m\u001b[0;34m\u001b[0m\u001b[0;34m\u001b[0m\u001b[0;34m\u001b[0m\u001b[0m\n\u001b[1;32m    735\u001b[0m             self.best_estimator_ = clone(clone(base_estimator).set_params(\n\u001b[0;32m--> 736\u001b[0;31m                 **self.best_params_))\n\u001b[0m\u001b[1;32m    737\u001b[0m             \u001b[0mrefit_start_time\u001b[0m \u001b[0;34m=\u001b[0m \u001b[0mtime\u001b[0m\u001b[0;34m.\u001b[0m\u001b[0mtime\u001b[0m\u001b[0;34m(\u001b[0m\u001b[0;34m)\u001b[0m\u001b[0;34m\u001b[0m\u001b[0;34m\u001b[0m\u001b[0m\n\u001b[1;32m    738\u001b[0m             \u001b[0;32mif\u001b[0m \u001b[0my\u001b[0m \u001b[0;32mis\u001b[0m \u001b[0;32mnot\u001b[0m \u001b[0;32mNone\u001b[0m\u001b[0;34m:\u001b[0m\u001b[0;34m\u001b[0m\u001b[0;34m\u001b[0m\u001b[0m\n",
            "\u001b[0;32m/usr/local/lib/python3.6/dist-packages/sklearn/base.py\u001b[0m in \u001b[0;36mclone\u001b[0;34m(estimator, safe)\u001b[0m\n\u001b[1;32m     80\u001b[0m             raise RuntimeError('Cannot clone object %s, as the constructor '\n\u001b[1;32m     81\u001b[0m                                \u001b[0;34m'either does not set or modifies parameter %s'\u001b[0m \u001b[0;34m%\u001b[0m\u001b[0;34m\u001b[0m\u001b[0;34m\u001b[0m\u001b[0m\n\u001b[0;32m---> 82\u001b[0;31m                                (estimator, name))\n\u001b[0m\u001b[1;32m     83\u001b[0m     \u001b[0;32mreturn\u001b[0m \u001b[0mnew_object\u001b[0m\u001b[0;34m\u001b[0m\u001b[0;34m\u001b[0m\u001b[0m\n\u001b[1;32m     84\u001b[0m \u001b[0;34m\u001b[0m\u001b[0m\n",
            "\u001b[0;31mRuntimeError\u001b[0m: Cannot clone object <tensorflow.python.keras.wrappers.scikit_learn.KerasClassifier object at 0x7f61cd807f60>, as the constructor either does not set or modifies parameter layers"
          ]
        }
      ]
    }
  ]
}